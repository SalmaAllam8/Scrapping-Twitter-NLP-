{
  "nbformat": 4,
  "nbformat_minor": 0,
  "metadata": {
    "colab": {
      "provenance": []
    },
    "kernelspec": {
      "name": "python3",
      "display_name": "Python 3"
    },
    "language_info": {
      "name": "python"
    }
  },
  "cells": [
    {
      "cell_type": "markdown",
      "source": [
        "Installing Twint to Scrap twitter "
      ],
      "metadata": {
        "id": "88LNQ8MCzuQ-"
      }
    },
    {
      "cell_type": "code",
      "execution_count": 1,
      "metadata": {
        "colab": {
          "base_uri": "https://localhost:8080/"
        },
        "id": "HmT4YnzEyuay",
        "outputId": "8a388848-701f-46ae-f2fe-e40bb901ea55"
      },
      "outputs": [
        {
          "output_type": "stream",
          "name": "stdout",
          "text": [
            "Looking in indexes: https://pypi.org/simple, https://us-python.pkg.dev/colab-wheels/public/simple/\n",
            "Collecting twint\n",
            "  Downloading twint-2.1.20.tar.gz (31 kB)\n",
            "  Preparing metadata (setup.py) ... \u001b[?25l\u001b[?25hdone\n",
            "Requirement already satisfied: aiohttp in /usr/local/lib/python3.8/dist-packages (from twint) (3.8.4)\n",
            "Collecting aiodns\n",
            "  Downloading aiodns-3.0.0-py3-none-any.whl (5.0 kB)\n",
            "Requirement already satisfied: beautifulsoup4 in /usr/local/lib/python3.8/dist-packages (from twint) (4.6.3)\n",
            "Collecting cchardet\n",
            "  Downloading cchardet-2.1.7-cp38-cp38-manylinux2010_x86_64.whl (265 kB)\n",
            "\u001b[2K     \u001b[90m━━━━━━━━━━━━━━━━━━━━━━━━━━━━━━━━━━━━━━\u001b[0m \u001b[32m266.0/266.0 KB\u001b[0m \u001b[31m12.3 MB/s\u001b[0m eta \u001b[36m0:00:00\u001b[0m\n",
            "\u001b[?25hCollecting elasticsearch\n",
            "  Downloading elasticsearch-8.6.2-py3-none-any.whl (385 kB)\n",
            "\u001b[2K     \u001b[90m━━━━━━━━━━━━━━━━━━━━━━━━━━━━━━━━━━━━━━\u001b[0m \u001b[32m385.4/385.4 KB\u001b[0m \u001b[31m21.5 MB/s\u001b[0m eta \u001b[36m0:00:00\u001b[0m\n",
            "\u001b[?25hRequirement already satisfied: pysocks in /usr/local/lib/python3.8/dist-packages (from twint) (1.7.1)\n",
            "Requirement already satisfied: pandas in /usr/local/lib/python3.8/dist-packages (from twint) (1.3.5)\n",
            "Collecting aiohttp_socks\n",
            "  Downloading aiohttp_socks-0.8.0-py3-none-any.whl (9.4 kB)\n",
            "Collecting schedule\n",
            "  Downloading schedule-1.1.0-py2.py3-none-any.whl (10 kB)\n",
            "Requirement already satisfied: geopy in /usr/local/lib/python3.8/dist-packages (from twint) (1.17.0)\n",
            "Collecting fake-useragent\n",
            "  Downloading fake_useragent-1.1.1-py3-none-any.whl (50 kB)\n",
            "\u001b[2K     \u001b[90m━━━━━━━━━━━━━━━━━━━━━━━━━━━━━━━━━━━━━━━━\u001b[0m \u001b[32m50.4/50.4 KB\u001b[0m \u001b[31m2.4 MB/s\u001b[0m eta \u001b[36m0:00:00\u001b[0m\n",
            "\u001b[?25hCollecting googletransx\n",
            "  Downloading googletransx-2.4.2.tar.gz (13 kB)\n",
            "  Preparing metadata (setup.py) ... \u001b[?25l\u001b[?25hdone\n",
            "Collecting pycares>=4.0.0\n",
            "  Downloading pycares-4.3.0-cp38-cp38-manylinux_2_17_x86_64.manylinux2014_x86_64.whl (288 kB)\n",
            "\u001b[2K     \u001b[90m━━━━━━━━━━━━━━━━━━━━━━━━━━━━━━━━━━━━━━\u001b[0m \u001b[32m289.0/289.0 KB\u001b[0m \u001b[31m14.6 MB/s\u001b[0m eta \u001b[36m0:00:00\u001b[0m\n",
            "\u001b[?25hRequirement already satisfied: multidict<7.0,>=4.5 in /usr/local/lib/python3.8/dist-packages (from aiohttp->twint) (6.0.4)\n",
            "Requirement already satisfied: yarl<2.0,>=1.0 in /usr/local/lib/python3.8/dist-packages (from aiohttp->twint) (1.8.2)\n",
            "Requirement already satisfied: charset-normalizer<4.0,>=2.0 in /usr/local/lib/python3.8/dist-packages (from aiohttp->twint) (3.0.1)\n",
            "Requirement already satisfied: async-timeout<5.0,>=4.0.0a3 in /usr/local/lib/python3.8/dist-packages (from aiohttp->twint) (4.0.2)\n",
            "Requirement already satisfied: attrs>=17.3.0 in /usr/local/lib/python3.8/dist-packages (from aiohttp->twint) (22.2.0)\n",
            "Requirement already satisfied: aiosignal>=1.1.2 in /usr/local/lib/python3.8/dist-packages (from aiohttp->twint) (1.3.1)\n",
            "Requirement already satisfied: frozenlist>=1.1.1 in /usr/local/lib/python3.8/dist-packages (from aiohttp->twint) (1.3.3)\n",
            "Collecting python-socks[asyncio]<3.0.0,>=2.0.0\n",
            "  Downloading python_socks-2.1.1-py3-none-any.whl (49 kB)\n",
            "\u001b[2K     \u001b[90m━━━━━━━━━━━━━━━━━━━━━━━━━━━━━━━━━━━━━━━━\u001b[0m \u001b[32m49.7/49.7 KB\u001b[0m \u001b[31m2.6 MB/s\u001b[0m eta \u001b[36m0:00:00\u001b[0m\n",
            "\u001b[?25hCollecting elastic-transport<9,>=8\n",
            "  Downloading elastic_transport-8.4.0-py3-none-any.whl (59 kB)\n",
            "\u001b[2K     \u001b[90m━━━━━━━━━━━━━━━━━━━━━━━━━━━━━━━━━━━━━━━━\u001b[0m \u001b[32m59.5/59.5 KB\u001b[0m \u001b[31m3.7 MB/s\u001b[0m eta \u001b[36m0:00:00\u001b[0m\n",
            "\u001b[?25hRequirement already satisfied: importlib-resources>=5.0 in /usr/local/lib/python3.8/dist-packages (from fake-useragent->twint) (5.10.2)\n",
            "Requirement already satisfied: geographiclib<2,>=1.49 in /usr/local/lib/python3.8/dist-packages (from geopy->twint) (1.52)\n",
            "Requirement already satisfied: requests in /usr/local/lib/python3.8/dist-packages (from googletransx->twint) (2.25.1)\n",
            "Requirement already satisfied: numpy>=1.17.3 in /usr/local/lib/python3.8/dist-packages (from pandas->twint) (1.21.6)\n",
            "Requirement already satisfied: python-dateutil>=2.7.3 in /usr/local/lib/python3.8/dist-packages (from pandas->twint) (2.8.2)\n",
            "Requirement already satisfied: pytz>=2017.3 in /usr/local/lib/python3.8/dist-packages (from pandas->twint) (2022.7.1)\n",
            "Requirement already satisfied: certifi in /usr/local/lib/python3.8/dist-packages (from elastic-transport<9,>=8->elasticsearch->twint) (2022.12.7)\n",
            "Collecting urllib3<2,>=1.26.2\n",
            "  Downloading urllib3-1.26.14-py2.py3-none-any.whl (140 kB)\n",
            "\u001b[2K     \u001b[90m━━━━━━━━━━━━━━━━━━━━━━━━━━━━━━━━━━━━━━━\u001b[0m \u001b[32m140.6/140.6 KB\u001b[0m \u001b[31m9.1 MB/s\u001b[0m eta \u001b[36m0:00:00\u001b[0m\n",
            "\u001b[?25hRequirement already satisfied: zipp>=3.1.0 in /usr/local/lib/python3.8/dist-packages (from importlib-resources>=5.0->fake-useragent->twint) (3.13.0)\n",
            "Requirement already satisfied: cffi>=1.5.0 in /usr/local/lib/python3.8/dist-packages (from pycares>=4.0.0->aiodns->twint) (1.15.1)\n",
            "Requirement already satisfied: six>=1.5 in /usr/local/lib/python3.8/dist-packages (from python-dateutil>=2.7.3->pandas->twint) (1.15.0)\n",
            "Requirement already satisfied: idna>=2.0 in /usr/local/lib/python3.8/dist-packages (from yarl<2.0,>=1.0->aiohttp->twint) (2.10)\n",
            "Requirement already satisfied: chardet<5,>=3.0.2 in /usr/local/lib/python3.8/dist-packages (from requests->googletransx->twint) (4.0.0)\n",
            "Requirement already satisfied: pycparser in /usr/local/lib/python3.8/dist-packages (from cffi>=1.5.0->pycares>=4.0.0->aiodns->twint) (2.21)\n",
            "Building wheels for collected packages: twint, googletransx\n",
            "  Building wheel for twint (setup.py) ... \u001b[?25l\u001b[?25hdone\n",
            "  Created wheel for twint: filename=twint-2.1.20-py3-none-any.whl size=33929 sha256=2a75542f2e5ab2959619b22d04324c633f40bdcb575b1f89bbb74c4a0bfab8e3\n",
            "  Stored in directory: /root/.cache/pip/wheels/4e/80/ea/5b82b5140b7dec857ec0bbfe908193ebf2e5d7f2ebee297519\n",
            "  Building wheel for googletransx (setup.py) ... \u001b[?25l\u001b[?25hdone\n",
            "  Created wheel for googletransx: filename=googletransx-2.4.2-py3-none-any.whl size=15968 sha256=c3f58db92b4e27796fa3eab852e31f7f44c053242a9efc8ca30854153a26b989\n",
            "  Stored in directory: /root/.cache/pip/wheels/6a/54/98/96b62f08dd73eca3147e36b5099d77c3f8fedc5472bb488167\n",
            "Successfully built twint googletransx\n",
            "Installing collected packages: python-socks, cchardet, urllib3, schedule, pycares, fake-useragent, elastic-transport, googletransx, elasticsearch, aiohttp_socks, aiodns, twint\n",
            "  Attempting uninstall: urllib3\n",
            "    Found existing installation: urllib3 1.24.3\n",
            "    Uninstalling urllib3-1.24.3:\n",
            "      Successfully uninstalled urllib3-1.24.3\n",
            "Successfully installed aiodns-3.0.0 aiohttp_socks-0.8.0 cchardet-2.1.7 elastic-transport-8.4.0 elasticsearch-8.6.2 fake-useragent-1.1.1 googletransx-2.4.2 pycares-4.3.0 python-socks-2.1.1 schedule-1.1.0 twint-2.1.20 urllib3-1.26.14\n"
          ]
        }
      ],
      "source": [
        "!pip3 install twint\n"
      ]
    },
    {
      "cell_type": "code",
      "source": [
        "!pip3 install --user --upgrade \"git+https://github.com/twintproject/twint.git@origin/master#egg=twint\"\n"
      ],
      "metadata": {
        "colab": {
          "base_uri": "https://localhost:8080/"
        },
        "id": "1sp5_zPtzQr-",
        "outputId": "85803895-94a5-42e0-9ba5-56f98f85e330"
      },
      "execution_count": 1,
      "outputs": [
        {
          "output_type": "stream",
          "name": "stdout",
          "text": [
            "Looking in indexes: https://pypi.org/simple, https://us-python.pkg.dev/colab-wheels/public/simple/\n",
            "Collecting twint\n",
            "  Cloning https://github.com/twintproject/twint.git (to revision origin/master) to /tmp/pip-install-n7_uy7pv/twint_59e9ea27d8f94043bcfea37d4eab8d33\n",
            "  Running command git clone --filter=blob:none --quiet https://github.com/twintproject/twint.git /tmp/pip-install-n7_uy7pv/twint_59e9ea27d8f94043bcfea37d4eab8d33\n",
            "\u001b[33m  WARNING: Did not find branch or tag 'origin/master', assuming revision or ref.\u001b[0m\u001b[33m\n",
            "\u001b[0m  Running command git checkout -q origin/master\n",
            "  Resolved https://github.com/twintproject/twint.git to commit origin/master\n",
            "  Preparing metadata (setup.py) ... \u001b[?25l\u001b[?25hdone\n",
            "Requirement already satisfied: aiohttp in /usr/local/lib/python3.8/dist-packages (from twint) (3.8.4)\n",
            "Requirement already satisfied: aiodns in /usr/local/lib/python3.8/dist-packages (from twint) (3.0.0)\n",
            "Requirement already satisfied: beautifulsoup4 in /usr/local/lib/python3.8/dist-packages (from twint) (4.6.3)\n",
            "Requirement already satisfied: cchardet in /usr/local/lib/python3.8/dist-packages (from twint) (2.1.7)\n",
            "Requirement already satisfied: dataclasses in /root/.local/lib/python3.8/site-packages (from twint) (0.6)\n",
            "Requirement already satisfied: elasticsearch in /usr/local/lib/python3.8/dist-packages (from twint) (8.6.2)\n",
            "Requirement already satisfied: pysocks in /usr/local/lib/python3.8/dist-packages (from twint) (1.7.1)\n",
            "Requirement already satisfied: pandas in /usr/local/lib/python3.8/dist-packages (from twint) (1.3.5)\n",
            "Requirement already satisfied: aiohttp_socks in /usr/local/lib/python3.8/dist-packages (from twint) (0.8.0)\n",
            "Requirement already satisfied: schedule in /usr/local/lib/python3.8/dist-packages (from twint) (1.1.0)\n",
            "Requirement already satisfied: geopy in /usr/local/lib/python3.8/dist-packages (from twint) (1.17.0)\n",
            "Requirement already satisfied: fake-useragent in /usr/local/lib/python3.8/dist-packages (from twint) (1.1.1)\n",
            "Requirement already satisfied: googletransx in /usr/local/lib/python3.8/dist-packages (from twint) (2.4.2)\n",
            "Requirement already satisfied: pycares>=4.0.0 in /usr/local/lib/python3.8/dist-packages (from aiodns->twint) (4.3.0)\n",
            "Requirement already satisfied: attrs>=17.3.0 in /usr/local/lib/python3.8/dist-packages (from aiohttp->twint) (22.2.0)\n",
            "Requirement already satisfied: multidict<7.0,>=4.5 in /usr/local/lib/python3.8/dist-packages (from aiohttp->twint) (6.0.4)\n",
            "Requirement already satisfied: async-timeout<5.0,>=4.0.0a3 in /usr/local/lib/python3.8/dist-packages (from aiohttp->twint) (4.0.2)\n",
            "Requirement already satisfied: aiosignal>=1.1.2 in /usr/local/lib/python3.8/dist-packages (from aiohttp->twint) (1.3.1)\n",
            "Requirement already satisfied: charset-normalizer<4.0,>=2.0 in /usr/local/lib/python3.8/dist-packages (from aiohttp->twint) (3.0.1)\n",
            "Requirement already satisfied: frozenlist>=1.1.1 in /usr/local/lib/python3.8/dist-packages (from aiohttp->twint) (1.3.3)\n",
            "Requirement already satisfied: yarl<2.0,>=1.0 in /usr/local/lib/python3.8/dist-packages (from aiohttp->twint) (1.8.2)\n",
            "Requirement already satisfied: python-socks[asyncio]<3.0.0,>=2.0.0 in /usr/local/lib/python3.8/dist-packages (from aiohttp_socks->twint) (2.1.1)\n",
            "Requirement already satisfied: elastic-transport<9,>=8 in /usr/local/lib/python3.8/dist-packages (from elasticsearch->twint) (8.4.0)\n",
            "Requirement already satisfied: importlib-resources>=5.0 in /usr/local/lib/python3.8/dist-packages (from fake-useragent->twint) (5.10.2)\n",
            "Requirement already satisfied: geographiclib<2,>=1.49 in /usr/local/lib/python3.8/dist-packages (from geopy->twint) (1.52)\n",
            "Requirement already satisfied: requests in /usr/local/lib/python3.8/dist-packages (from googletransx->twint) (2.25.1)\n",
            "Requirement already satisfied: pytz>=2017.3 in /usr/local/lib/python3.8/dist-packages (from pandas->twint) (2022.7.1)\n",
            "Requirement already satisfied: python-dateutil>=2.7.3 in /usr/local/lib/python3.8/dist-packages (from pandas->twint) (2.8.2)\n",
            "Requirement already satisfied: numpy>=1.17.3 in /usr/local/lib/python3.8/dist-packages (from pandas->twint) (1.21.6)\n",
            "Requirement already satisfied: certifi in /usr/local/lib/python3.8/dist-packages (from elastic-transport<9,>=8->elasticsearch->twint) (2022.12.7)\n",
            "Requirement already satisfied: urllib3<2,>=1.26.2 in /usr/local/lib/python3.8/dist-packages (from elastic-transport<9,>=8->elasticsearch->twint) (1.26.14)\n",
            "Requirement already satisfied: zipp>=3.1.0 in /usr/local/lib/python3.8/dist-packages (from importlib-resources>=5.0->fake-useragent->twint) (3.13.0)\n",
            "Requirement already satisfied: cffi>=1.5.0 in /usr/local/lib/python3.8/dist-packages (from pycares>=4.0.0->aiodns->twint) (1.15.1)\n",
            "Requirement already satisfied: six>=1.5 in /usr/local/lib/python3.8/dist-packages (from python-dateutil>=2.7.3->pandas->twint) (1.15.0)\n",
            "Requirement already satisfied: idna>=2.0 in /usr/local/lib/python3.8/dist-packages (from yarl<2.0,>=1.0->aiohttp->twint) (2.10)\n",
            "Requirement already satisfied: chardet<5,>=3.0.2 in /usr/local/lib/python3.8/dist-packages (from requests->googletransx->twint) (4.0.0)\n",
            "Requirement already satisfied: pycparser in /usr/local/lib/python3.8/dist-packages (from cffi>=1.5.0->pycares>=4.0.0->aiodns->twint) (2.21)\n"
          ]
        }
      ]
    },
    {
      "cell_type": "markdown",
      "source": [
        "#TWINT"
      ],
      "metadata": {
        "id": "5SRmAk-cz2md"
      }
    },
    {
      "cell_type": "code",
      "source": [
        "import twint\n",
        "import nest_asyncio \n",
        "nest_asyncio.apply()"
      ],
      "metadata": {
        "id": "4s3WivYczfid"
      },
      "execution_count": 2,
      "outputs": []
    },
    {
      "cell_type": "markdown",
      "source": [
        "The scraped data will be stored in a json file named Mytweets"
      ],
      "metadata": {
        "id": "HgF2HhRj1hEm"
      }
    },
    {
      "cell_type": "code",
      "source": [
        "\n",
        "# Configure\n",
        "c = twint.Config()\n",
        "c.Search = \"great\"\n",
        "c.Store_json = True\n",
        "c.Output = \"/content/sample_data/Mytweets.json\"\n",
        "\n",
        "\n",
        "#run\n",
        "twint.run.Search(c)"
      ],
      "metadata": {
        "colab": {
          "base_uri": "https://localhost:8080/",
          "height": 1000
        },
        "id": "HoLtOZyD0M-N",
        "outputId": "1593342f-9f90-4f6e-8cfd-4d130d140680"
      },
      "execution_count": 3,
      "outputs": [
        {
          "output_type": "stream",
          "name": "stdout",
          "text": [
            "1628423007583494145 2023-02-22 15:54:34 +0000 <AliAliAfro> @SimplyRedHQ @terrychristian Great idea, but do you want to see all colours of tomato or simply red?  https://t.co/zeHuEVZxyz\n",
            "1628423006530707457 2023-02-22 15:54:34 +0000 <YoKitsch> @TheCdnAcademy What a great Winnipeg costume team I had on The Porter!  I'm so appreciative of this nomination and congratulations to everyone in the television #bestcostumedesign category!  #CdnScreenAwards  https://t.co/Q6lRoZjiUP\n",
            "1628423005322854403 2023-02-22 15:54:33 +0000 <russell6848> @maile_everett @YouTube Love R.E.O  I Got To See Them Back In 2016 It Was A Great Show\n",
            "1628423004198932480 2023-02-22 15:54:33 +0000 <balajive> @ashoswai Great guy, you should listen to his speeches, maybe you’ll learn something like not to backstab your own mother and motherland…\n",
            "1628423004118974466 2023-02-22 15:54:33 +0000 <QuinoaComics> @ShineUrLiteOnMe oooooh! great connection! What comic is the first image frome?  I've also been thinking about Apocalypse, Rama-tut (Kang), and where Arakko was during that timeline.\n",
            "1628423003288621057 2023-02-22 15:54:33 +0000 <AdamsEm17400161> @corechaincrypto @Coredao_Org Wow that's great\n",
            "1628423003200532482 2023-02-22 15:54:33 +0000 <Brandon_Hubbard> @NashvillePost @NashvilleScene No more bike lines within a 10-mile radius of downtown. Make automobile lanes great again.\n",
            "1628423002940669955 2023-02-22 15:54:33 +0000 <Crypto_Morkel> @JirkaSaFuCalls @JinatVP It’s is great analysis $DMOON\n",
            "1628423001984073733 2023-02-22 15:54:32 +0000 <RG_Leachman> “If you want to learn more about bitcoin, twitter is a great resource”  *Logs into twitter. Nothing but talk of who is too mean or not mean enough in the bitcoin community, and who should fight at conferences.   Quality content. Doing the Lord’s work.\n",
            "1628423001661222912 2023-02-22 15:54:32 +0000 <brenbrenchie> A great documentary. Must watch really\n",
            "1628423001179054081 2023-02-22 15:54:32 +0000 <Brysworld303> @studentoflife @pitmastermikey Hope your day is great!  One thing about snow is that it may be cold but it sure is pretty!\n",
            "1628422998578573313 2023-02-22 15:54:32 +0000 <QueenGyasi> @Nova_fullonBRAT Ayee seems like you’ve been doing great ! Keep up the good work 🥰\n",
            "1628422996988772354 2023-02-22 15:54:31 +0000 <Khing_Geezy> @lady_jimam KTBFFH\n",
            "1628422996837773312 2023-02-22 15:54:31 +0000 <de_a_fna> @__12129__ Ինչ տղա\n",
            "1628422996560846849 2023-02-22 15:54:31 +0000 <brandedcarter> Great song\n",
            "1628422996502233088 2023-02-22 15:54:31 +0000 <leelogs2> @AngelaDodge123 @sage1411 I adored my dad and when he was dying said “I’ve counted my life of great value for having a daughter like you”. Sorry, I’m crying even now. How could she? Why would she? 30 yrs on and it’s like yesterday and it’s still raw. She is a cow!!\n",
            "1628422994887426052 2023-02-22 15:54:31 +0000 <Jungs_Shadow_> @sportbible Jose all day every day, no second thoughts whatsoever.  Klopp is a great manager but Jose sits at the table of managers all worthy of being labeled one of the best ever.\n",
            "1628422994518482953 2023-02-22 15:54:31 +0000 <RandElkins> @sigg20 Andy gets a great mention in an episode of Curb Your Enthusiasm\n",
            "1628422994241417216 2023-02-22 15:54:31 +0000 <RationalProle> @CrownRoyel @nypost Family Guy, by their own admittance has stolen much from the Simpsons. All three are great shows. SP still is relevant in the way they mock current cultural shifts. They were discussing trans 10 years before it became a major public discussion.\n",
            "1628422994170085378 2023-02-22 15:54:31 +0000 <crypt_bigcat225> @yellowpantherx @NFArcade @ReadyPlayerDAO @DrJPEG_ @_BlockchainBuck Great to see you checking out @NFArcade I've been playing since I picked up my Gen0 pass and am still enjoying myself. I'm really looking forward to the new games that should be rolling out here very soon!\n",
            "1628422993868103680 2023-02-22 15:54:31 +0000 <UKCouncilAltBot> This tweet from Great Yarmouth Borough Council contains an image without alt text.  Alt text is important for blind and partially sighted people who use screen readers. More info:  https://t.co/IaOiSyXdhq\n",
            "1628422993130176514 2023-02-22 15:54:30 +0000 <CorbyMat> @KeithKeitheimer @T_Ram133 I think IL does a great job actually. Go look at PA Keith. Sorry about your nephew\n",
            "1628422992979013637 2023-02-22 15:54:30 +0000 <WellsWolverines> Fat Tuesday Celebration at Wells!!! Team work makes the dream work!! We had a great time showering our teachers and staff! @LaQuitaCarter2 @LaQuishaKnowle1 @TatiaWilliams @WellsWolverines #fattuesdayatwells  https://t.co/KT8ehKqLuo\n",
            "1628422992945348608 2023-02-22 15:54:30 +0000 <THE516GOD> It's so unfortunate when great projects host a space at the same time\n",
            "1628422992664592385 2023-02-22 15:54:30 +0000 <BishalFandom> @getpeid I use smart watches just to pretend I look cool.Yes I am a great pretender.🙂\n",
            "1628422990839836674 2023-02-22 15:54:30 +0000 <antpetrella> It's great to be part of the incredible team that will be bringing this amazing new hospital to Niagara!\n",
            "1628422990613323781 2023-02-22 15:54:30 +0000 <bateszn7> @Bengals2DaChip @ballinn_brandon @ImagineMichael3 @Antonio42369987 @kyronsamuels Jalen hurts just went to a SB and had a great SB performance lmao\n",
            "1628422990018011136 2023-02-22 15:54:30 +0000 <its_mad93> February 22th 💚🇸🇦  The beginning of a great country under its leadership   Three centuries of glory 🇸🇦🤍.. May allah bless you 💚💚  #يوم_التاسيس  #يوم_التأسيس_السعودي_2023  https://t.co/i06jsrzlEf\n",
            "1628422989292134401 2023-02-22 15:54:29 +0000 <therealskiddymo> @Realzakaiz Keep playing your game. The outcome of a game may not be what fans want to see and some will show their negative side, we will still all watch and support you all. Keep fighting and we know you all will do great things!\n",
            "1628422988964954115 2023-02-22 15:54:29 +0000 <EagleShery> @saharib02014675 اي كلام يا عبسلام\n",
            "1628422988742938625 2023-02-22 15:54:29 +0000 <dyedanddead> @natsechobbyist There ya go, fuck it up as bad as the place you came from great idea.\n",
            "1628422988738490369 2023-02-22 15:54:29 +0000 <BigBananaTweets> @Evanit0 I'm having a great day Evan thanks 🤙🏻 hope your days going well too\n",
            "1628422988524670978 2023-02-22 15:54:29 +0000 <KarenBoyles1> Great Panel Discussions on Credentials, Performance-based Measures, and Work-based Learning, where CTE Directors are sharing with and learning from one another. #CTEforNC #ncacte #  https://t.co/ZadYDOddJB\n",
            "1628422987967008768 2023-02-22 15:54:29 +0000 <BenipayoMarc> Great testimony! I hope more people would follow through and be more open about this.\n",
            "1628422987736023042 2023-02-22 15:54:29 +0000 <AngelaJWrites> Look, you could win a great book!!\n",
            "1628422987694080001 2023-02-22 15:54:29 +0000 <302Autographs> Great job @realBobbyCruise on @BustedOpenRadio talking @WWrestlingArmy - The product is so damn good!\n",
            "1628422985920184321 2023-02-22 15:54:29 +0000 <troubledwatersx> @howardrodman Great guy. Shot my first big studio picture and then my brother’s first big studio picture\n",
            "1628422985676738560 2023-02-22 15:54:29 +0000 <legendgaylol> @SMTDrifter @FE1_BEST_FE @ArikGenerick @GreatBlastG5 Fates is still modern FE and Conquest is a great game   Ivy is probably the best combat mage in the series and Hortensia is top 5 utility units in the series, all you really gotta know\n",
            "1628422985374658562 2023-02-22 15:54:29 +0000 <CbyersChristina> What an incredible opportunity for our @BaltCitySchools students! It is a great morning at the  #CIAATournament Education Day! @SonjaSantelises @RachelMazyck @SuzieWesh  https://t.co/22eDgcDwB8\n",
            "1628422985202769922 2023-02-22 15:54:28 +0000 <SkyHighTsja> @14dennisbrian Whaaaow that s great bro!\n",
            "1628422983919480832 2023-02-22 15:54:28 +0000 <ltxstay> @ItsArpitaSarkar @Louis_Tomlinson Have a great time pd🫶\n",
            "1628422983751544833 2023-02-22 15:54:28 +0000 <Linda___22__10> Had a great time reconnecting with my ex  https://t.co/xNPHveSmAd\n",
            "1628422983550177283 2023-02-22 15:54:28 +0000 <comboverwhelmed> @ltlnicky43 @EducatingTrump2 @twitburd1 @Trumpcrazytrain @PatrioticKitten @Natural_Femme @MistressRedWasp @AcrytearsMag @Pis0Mojado @ReneeDonnel @michellewither6 @TrumpLOST5 @Nicoleg425 @Karlton111 @__TeekeeMon @TastyMorsel6 @DigiMalice @PeterFee182 @Synyster63 @_CapitalOffense @MagaPhoenix73 @proundpapaof3 @2457klhu @CRogers1973 @KleeOntheRight @lanemancini61 @missled2u @Kelledin @MFSpitfire @VinceGottalotta @ThomasP7575 @emerichathome @AntWindmill @RoyQHobbs @AngryFleas @KayeKittyKitti1 @teamphil @lostandlovinit @jkoff609 @WontBeSilent2 @giddy_bunny @Theresa51332 @itisjustmebabe @jdd2169 @AgainMothra @JonRFleming @AllyFromCali23 @dmills8 @tip_ct No, no. Trump was taking credit for Obama's great jobs numbers. It was on the exact same trajectory.   Until he crashed everything.\n",
            "1628422982808014849 2023-02-22 15:54:28 +0000 <rpwbarbie> omg i just saw this! thank you and i hope u had a great day\n",
            "1628422982619041794 2023-02-22 15:54:28 +0000 <GawrychRafal> @krassenstein Great. SBF and FTX should also be in jail for scamming millions of people.\n",
            "1628422982476464130 2023-02-22 15:54:28 +0000 <DylanMaloneBZK> #RobinHood2011 of the great RIDLEY SCOTT !  https://t.co/4qVCCc70YO\n",
            "1628422981553917952 2023-02-22 15:54:28 +0000 <brookecallie11> bit, yes, a very great deal. I am a proud old w   #O泡泡.   #绿帽 #哄睡 #磕炮 #文爱 #剧情 #陪玩 #反差 #女陪玩 #女陪 #天使陪玩 #永劫无间 #女S #连麦 #女m #寸止 #王者荣耀 #娇喘  #颜色陪玩  #字母圈 #英雄联盟            https://t.co/5pb4xZSHSO\n",
            "1628422981507592192 2023-02-22 15:54:28 +0000 <JLKyle1> @SaniacSquirrel You're dumb as shit dude. Let the adults that graduated high school discuss this sort of thing. You go back to eating glue and finger painting.\n",
            "1628422981419401220 2023-02-22 15:54:28 +0000 <JackGlassey> @Europe_MMA @MiserableMackem @bet365 Clydebank were a great club. Just a Pitty what happened to them. I know a Clydebank fan who works in my work, still goes to the games etc, he cannot stand Airdrie or St Mirren… Airdrie for obvious reasons ..\n",
            "1628422980907814913 2023-02-22 15:54:27 +0000 <_Lee_Philips> @MrdrnMntMn You keep repeating that, but the statute and case law is very clear on this issue.  Brking a window and climbing through (even without the backing of a lg mob) is a violent and tumultuous entry. The law presumes that such is accompanied by a reasonable fear of great bodily harm.\n",
            "1628422980240916480 2023-02-22 15:54:27 +0000 <mrmarktownley> Moved to push forward @kenanfellows goal of championing a representative workforce for NC at the #MappingtheMovement breakfast supporting the @DudleyFloodCtr ‘s mission. Great discussions and an encouraging call to action!  https://t.co/Rdt1ejaBFM\n",
            "1628422980228317184 2023-02-22 15:54:27 +0000 <StacktFrens> @EddieKC8 GM GM EKC8!  hope you have a great wednesday!  https://t.co/khegG7i70f\n",
            "1628422979930685440 2023-02-22 15:54:27 +0000 <EllenMignone> Patiently waiting for @costareports to cover the 44,000 hours of footage from 1/6 given to Tucker Carlson and the security dangers, but his attention is (correctly) focused on a great, good man, former president Jimmy Carter.\n",
            "1628422979834052608 2023-02-22 15:54:27 +0000 <SyedFaiyyaz> @Dawn_News Great.\n",
            "1628422979255148544 2023-02-22 15:54:27 +0000 <JudyRay84003977> @Kesthecollie That’s great Kes!!! You’re having a wonderful day!!! 😀❤️😘🤗\n",
            "1628422979112644608 2023-02-22 15:54:27 +0000 <LukowskiElaine> @80sRadioMan That's a great song\n",
            "1628422978068439040 2023-02-22 15:54:27 +0000 <PanaresPaul> @endeachohare u did great my loveeee 🫶🏻!not bad for  first timer 🤍\n",
            "1628422977850159113 2023-02-22 15:54:27 +0000 <ADAGurl4Eva> @Huntshelton @Lamborghini 🥰🥰🙌🏻🙌🏻 still looks great!! ✨✨\n",
            "1628422977497837568 2023-02-22 15:54:27 +0000 <koeppeezy> @jovan_deeb great work and insight!!\n",
            "1628422977225211906 2023-02-22 15:54:27 +0000 <BlackAndGold277> @PeterkinAndrew His stats are not great at all for the asking price. Hard pass for me. If that’s the real price go after  Chychrun.\n",
            "1628422976415621120 2023-02-22 15:54:26 +0000 <ULingmerth> @WKanpeh Looks great 😊\n",
            "1628422975417360385 2023-02-22 15:54:26 +0000 <DRC> Thank you Rep. @CarlOShermanTX for your leadership and a great discussion about the DRC’s priorities for enhancing public safety and securing a high quality of life for all Texans. #DRCinATX  https://t.co/leiV0BUheb\n",
            "1628422974805008386 2023-02-22 15:54:26 +0000 <carsonritchie__> Tbf I wouldn’t fuck with The Great Khali either…  https://t.co/2XhiPjulBh\n",
            "1628422974687662081 2023-02-22 15:54:26 +0000 <shortblackboii> @Ekitipikin 😂💔\n",
            "1628422974083682306 2023-02-22 15:54:26 +0000 <Blueshaded_Rags> @AndrewW48448397 @marcus_falding @talkSPORT I ragged on Gomez earlier in the season average defender, Nunez first season I let that go for any player. Henderson is just getting old can’t blame him for that blame the club for not getting a replacement. And Salah is loved by the media great player just in average form\n",
            "1628422971663519747 2023-02-22 15:54:25 +0000 <trolledbywho> @QB__University @D1Chosen2 @Chargers_Aaron Hypocritical af and when you bring up good points in a debate that show his flawed bias and hypocrisy he says \"look how I'm making them run laps\" or call you a coxk sucker when he has nothing. I legit made a great point to his \"15 ints\" in which he backtracks and stfu lmao.\n",
            "1628422971068149760 2023-02-22 15:54:25 +0000 <puweee> @BLADEARTSIII looks great\n",
            "1628422970791145473 2023-02-22 15:54:25 +0000 <RodCarr5> @SimonNott @StarSports_Bet Always had great fun with Dave at the races, lovely people.\n",
            "1628422970631938048 2023-02-22 15:54:25 +0000 <SoberSabre> @TheLaurenChen The sad truth is that our nation is either seen as the laughing stock of the world or the great Satan.\n",
            "1628422970359119872 2023-02-22 15:54:25 +0000 <TheSchutter> The doomslayer is either a great Christian or a terrible one I'm not sure which 🤔  https://t.co/PBDsTXv6cJ\n",
            "1628422969968959488 2023-02-22 15:54:25 +0000 <hasansmullet> @zzaavi1 honestly it’s more like tumblr 2014 music, like emo vibes. but they’ve grown a lot as an artist and her music is definitely less tumblr now. either way i like it. they’re great i love her\n",
            "1628422969268502528 2023-02-22 15:54:25 +0000 <ShoujoSundae> Maybe it's just his gender. We'd get it. A helpful cat gentlemen that gives awesome advice with great fashion sense is a top tier choice\n",
            "1628422966131437569 2023-02-22 15:54:24 +0000 <AndrewBeckerETH> @I_Am_The_ICT Great learning experience. You’ve changed my trading for the better and which is now changing my life. Thank you for letting your light shine before others. We are all seeing your good deeds and glorifying the Father in heaven. Peace be with you brother!\n",
            "1628422965950877696 2023-02-22 15:54:24 +0000 <kmb42600> @atorstling @Prowl8413 And it's weird because I would expect a generation quirk like that to be very rare, given how bad its consequences are. But fixing the bug entirely would be super great and ensure people don't have disappointing experiences when they find a stronghold\n",
            "1628422965594566662 2023-02-22 15:54:24 +0000 <jhamby> The Amiga had a great advantage that Commodore never understood how to sell in that it could output reasonably good NTSC or PAL output and the video chip accepted an external sync signal so you could overlay Amiga graphics on live video (genlock).  And chromakey was inexpensive.\n",
            "1628422965317754880 2023-02-22 15:54:24 +0000 <Alif_Aidon> @JirkaSaFuCalls @JinatVP It’s is great analysis $DMOON\n",
            "1628422965292421125 2023-02-22 15:54:24 +0000 <David57668982> @CiCi_Texas_45 A place off the river walk that has great food. Gino’s Deli\n",
            "1628422963967184897 2023-02-22 15:54:23 +0000 <Chandan49134923> @DJayantaKumar Great\n",
            "1628422963648245763 2023-02-22 15:54:23 +0000 <alig1972> That was a bit better today on #Lingo great result 👍🏻\n",
            "1628422962817761283 2023-02-22 15:54:23 +0000 <AlunHodson> @AndreaSmart93 @PaulFrancis08 @Jonathan64Jones Happy Birthday Paul, as you can see I'm not in the picture as I, like many couldn't keep up with you, a superb player, lovely bloke and a pleasure and privilege to call you a teammate! Have a great day!!\n",
            "1628422961236520961 2023-02-22 15:54:23 +0000 <GreatAnozie> uncovered🍡nappy🍡\n",
            "1628422960418799616 2023-02-22 15:54:23 +0000 <kyanhvu> @zetablockchain @Bitcoin @xdefi_wallet great team\n",
            "1628422959823036416 2023-02-22 15:54:22 +0000 <Blu_Lotus> Great list… all must-sees.\n",
            "1628422959395217414 2023-02-22 15:54:22 +0000 <Inderji211079> @RamblingSingh Great Sikh Army\n",
            "1628422958447460352 2023-02-22 15:54:22 +0000 <funnvegas> @toddlombardo @Lina78858915 You weren’t there, why the great interest?\n",
            "1628422957931573249 2023-02-22 15:54:22 +0000 <JulianOakhere> @nesslorenzana Hey Vanessa! trying to connect with you but your DM is currently closed. If you can hit my DM so that would be great. Thank you!\n",
            "1628422956396457984 2023-02-22 15:54:22 +0000 <tworonboi> @GODDESSCOMPLEX mhm yes. thank you, eve. i hope you had a great day.\n",
            "1628422955813441536 2023-02-22 15:54:21 +0000 <Silver_Gold_U> Mr. Morrison was the VP of Business Development and CFO of Great Bear Resources.  Anyone recall the Great Bear story? $SGD.cn $SNWGF\n",
            "1628422955263750144 2023-02-22 15:54:21 +0000 <NFTwithTaste> @Future_Camping If I want to stop the thought stirrer in my head, I look at the sea or the mountains, and at that moment there are no more thoughts, only a feeling of endless gratitude to the great Creator\n",
            "1628422954483589120 2023-02-22 15:54:21 +0000 <RehydratedTater> @cookie27703 @BlueHeronFarmTX @Thereisnocat_ This is what differentiates a great vet from the others. #Respect\n",
            "1628422954404003845 2023-02-22 15:54:21 +0000 <MisterSalesman> The Oath. Let the work of others inspire great ideas to curate and rewrite remarkable pieces. \"No longer is the owner of the distribution system the king of the castle. Today, curation is king.\" Stephen Rosenbaum   https://t.co/Ho9mXNaBdh #blogpost\n",
            "1628422952810344448 2023-02-22 15:54:21 +0000 <SandyWi80612796> Check out it's a great game!😍😍😍😍 #dbd #NewTitantron #新春DbD #winterholidays\n",
            "1628422951711252487 2023-02-22 15:54:20 +0000 <LloydGarmaBoi> @Yakoiisyaboi @pog_master_1_1 Awww thank you! Have a great day  https://t.co/4zN8UkZnz0\n",
            "1628422949798649857 2023-02-22 15:54:20 +0000 <MyApple4Ever> Hey this is great group: one, the beautiful, intellectual Miss Candace Owens, and the five gentlemen are excellent representation of the Afro American men, who were not intimidate by the the philosophy of RACISM; and they made it, by their own ambition, schooling. and work.\n",
            "1628422947177132033 2023-02-22 15:54:19 +0000 <jkline120> @AMCTheatres That’s very great\n",
            "1628422946799685636 2023-02-22 15:54:19 +0000 <Golf4a> Society Guide 2023 delivered next month to 1000 clubs - Great to have @broadstonegc as part of the @NCG_com membership family.  - Check out their current offers here &gt;&gt;&gt;  https://t.co/8P01hU12jD  https://t.co/4o1TX6RJ7K\n",
            "1628422946757791746 2023-02-22 15:54:19 +0000 <Vi_Apparel340> Ah yes Virgin Islander produced a road March winning song in Trinidad . That should be the daily news headline tomorrow\n",
            "1628422946120409089 2023-02-22 15:54:19 +0000 <bandhanrk05> I changed my password so hopefully nothing will happen again🙏I once again apologise for the inconvenience caused... Bt I would like to see what was sent to you people from my end so if anyone can show me that would be great🙏\n",
            "1628422945914896387 2023-02-22 15:54:19 +0000 <EeAlthoff> @patriottakes It’s great he would blame Russia for anything bad but Russia had nothing to do that train derailment nor would they want anything to do with it.  https://t.co/ANX3JbL6wE\n",
            "1628422945604308992 2023-02-22 15:54:19 +0000 <Mayerli122_> Claimed ✅, feeling great! #SuperPuma @NFTeed @Guyverone_Eth @Papua222s   https://t.co/1DI2gxC8Ta\n",
            "1628422945423884289 2023-02-22 15:54:19 +0000 <ICUTallaght> Consultant Intensivist position available. Great opportunity to join the expanding ICU team. @ICUTallaght\n",
            "1628422944908091394 2023-02-22 15:54:19 +0000 <lewid123> @LinuzOf @deedna00 @rajsinghchohan It’s a great question but you cannot say honestly that he can defend. He’s awful. Attacking he’s great\n",
            "1628422944257875970 2023-02-22 15:54:19 +0000 <LUCILERANGEL12> @RyanDivish This looks like a great matchup! Robbie Ray vs Marco Gonzales is sure to be a fireworks show. See my homepage plz\n",
            "1628422943947517952 2023-02-22 15:54:19 +0000 <ShantelFarnan> Great day for future educators to create a collaborative mind map of their last six weeks of learning!  https://t.co/3f8JcMIPgh\n",
            "1628422943893082114 2023-02-22 15:54:19 +0000 <emzanotti> @crousselle @TradVat2 @thelampmagazine @TimothyNerozzi What’s really bad is if you do that and feel better. Those two weeks in India eating nothing but Lentils, I was great 😬\n",
            "1628422942693462016 2023-02-22 15:54:18 +0000 <natepentz> Some of the slides from Gary Keller's speech on Sunday. Biggest challenge in the housing market is the lack of 4 million homes built in the years after the Great Recession. We will be looking at low inventory for while.  https://t.co/3px0EVZkiw\n",
            "1628422942420832258 2023-02-22 15:54:18 +0000 <MaxKShaw> This is great. I really want to hear the rest of her answer. People see immigrants/refugees in the UK and automatically assume that 1) it's a problem, 2) most of them are coming to the UK. It's just small-minded biased bigotry.\n",
            "1628422942123085824 2023-02-22 15:54:18 +0000 <greatyarmouthbc> Guests from organisations involved in the major incident which was declared in Great Yarmouth when a 250kg Second World War was discovered have been thanked at a special presentation.   Read more:  https://t.co/aqPPqdnv3y  https://t.co/udvDcP0g2w\n",
            "1628422941393268738 2023-02-22 15:54:18 +0000 <SayaSigns> @crowcialist as a barista, i feel the \"don't make it weird\"/\"don't act entitled\" caveats deep in my bones, but can confirm from the other side of the counter that it feels great to have that sense of continuity with regulars who follow those very basic rules.\n",
            "1628422941053718528 2023-02-22 15:54:18 +0000 <kartinibudaya> Saiko seeyal minah ni. Last month dah kena saman RM 78,000 sbb masak Great White Shark. Now masak pokemon ni. Tak insaf ke ? Binatang exotic jugak korang nak makan ! Byk lagi haiwan lain boleh dimakan.  https://t.co/wsgI0Aq6Ge\n",
            "1628422940998918147 2023-02-22 15:54:18 +0000 <chapman_louise> Great day at Firecracker Island with SCHS and Mr. Platt. Thanks MDC Carly and Brent.\n",
            "1628422940856311809 2023-02-22 15:54:18 +0000 <RoyReadsManga> @BongoTett Have a great day!\n",
            "1628422940336193536 2023-02-22 15:54:18 +0000 <trueAFICIONADO> @SaharaReporters If nobody talk about you, it means u aren't doing well, the fear of peter obi our incoming original president is really causing headache among the enemies of our great country...Peter OBIDATTI Aso rock direct in Jesus name Amen.\n",
            "1628422940147478531 2023-02-22 15:54:18 +0000 <Gabriel35540387> Though they love me #女喘 #调教 #萝莉 which makes me feel so great!Basketball needs quick reaction and decision I should keep an eye watching as an eagle  https://t.co/KyI8ogPCIX\n",
            "1628422939417710592 2023-02-22 15:54:18 +0000 <JohnFra23673605> @staithesartist Haven't heard that one before ! You have great views up there and a nice sky. I was at my art class this afternoon and the sun was shining but it clouded over when  I got home.\n",
            "1628422938885259265 2023-02-22 15:54:17 +0000 <oceancape> @janice_murphy23 @PeterDClack @farnsworthdog Great scientist, not a great economist as many great inventors died penniless, including the wright brothers.  Nurses &amp; Doctors invested thousands of $ &amp; time in their education, but now are employed reaping the profits of their investment, at $40, 50, 60 and even 100+ per hour.\n",
            "1628422938637508608 2023-02-22 15:54:17 +0000 <warman_heather> Children’s Hospital of Philadelphia (CHOP)—named America’s 2022 Best Large Employer by Forbes—offers countless ways to change lives. We currently have a great leadership opportunity- this role will manages day-to-day operations o… https://t.co/qyTPRxSOFq  https://t.co/LI9LzIm8pR\n",
            "1628422937802842116 2023-02-22 15:54:17 +0000 <P3bR3> @legen_eth Gm Legen 👑☀️, have a great day!\n",
            "1628422937564033025 2023-02-22 15:54:17 +0000 <Lauriux> @sergededina @WILDCOAST Thank you Serge, for the great work!\n",
            "1628422937505148931 2023-02-22 15:54:17 +0000 <dar3al__mark> @MutantShibaClub @MutanShibaClub No comparison. High definition over any definition. Great eyes look for greatness real eyes realize greatness! P.s. what does mi Shiba look like post antidote?! 🐾🐕🧪 #Awoo  https://t.co/jlIT2WBWqf\n",
            "1628422937114992647 2023-02-22 15:54:17 +0000 <The_GreatBonnie> @neerajs041 There are platforms where you can sell templates or use Gumroad.\n",
            "1628422936473239552 2023-02-22 15:54:17 +0000 <AlanLathwell> @talkSPORT @lehmann_alisha The problem here is too many people are comparing women’s football with the men’s game. It’s a different product, and should be judged on its own merits. I’ve been to Lionesses matches and they were great, however I don’t feel the need to compare the two.\n",
            "1628422935059787778 2023-02-22 15:54:17 +0000 <AdmiredLeaders> If honesty is about words, integrity is about actions. Someone can be honest and still not have integrity.   You might value expressing the truth,  but still fail to live up to the qualities of integrity.   Great leaders strive to possess  both honesty and integrity.\n",
            "1628422935017816065 2023-02-22 15:54:17 +0000 <LashondaMims> @ElizabethBBoyd1 It was a great discussion!  Someone brought their deb photo; someone had a grandparent from Natchez; and I got to tell my story about watching PhiMu bid day from the steps of a GaTech frat, while smoking a cigarette in my biker jacket and Docs\n",
            "1628422934476861445 2023-02-22 15:54:16 +0000 <Medistik> @AscentChiro Great article!\n",
            "1628422934464458752 2023-02-22 15:54:16 +0000 <AlegarbesJay> UPDATE: Purchased 5 doz. slippers for 1,908.00 (discounted rate from supplier)  Total Donations Received: 4,704.66 Total Expenses: 3,099.95  Cash-on hand: 1604.71  Thankyou for our generous sponsorsssss! It will be a great day for the children of Caubian, for the next few days.  https://t.co/ZyAN3HmmSl\n",
            "1628422934359408641 2023-02-22 15:54:16 +0000 <BTSARMY39774102> @V_199531 Jimin is a good and wonderful person. I am sure it will be a great success👏💜\n",
            "1628422934246133760 2023-02-22 15:54:16 +0000 <ErikGide> @Hard_Furry @DDayCobra I like watching Tuesday Main event, Mario cart wars, Friday Night Tights, and more recently Cobracast Irl for the great content,memes, and the great chat discussions. I rather watch these live streams than any TV show or movie  that is now produced.\n",
            "1628422933692715009 2023-02-22 15:54:16 +0000 <Mohitdhiman16> @insan_honey @Gurmeetramrahim great\n",
            "1628422933466206210 2023-02-22 15:54:16 +0000 <golfpopos> Join me at Cap3 Collective Community App today and get some free spins on the lucky slot machine 🎰  Launching the Future of Web3 with a thoughtful community to fund entrepreneurs with great ideas.  https://t.co/7psmTjfvEQ via @cap3collective\n",
            "1628422933462028288 2023-02-22 15:54:16 +0000 <fivedollaentrys> What I’m liking so far, favorites are Collins and Kyrie.   Collins has been great since starting and has hit a 3 in each of the last 7 games  https://t.co/cmklpFEQ2M\n",
            "1628422932971257858 2023-02-22 15:54:16 +0000 <CharlesRense> @BenjaminABoyce Dude, that from Predator. I don't come out so great in that scenario!\n",
            "1628422931654283264 2023-02-22 15:54:16 +0000 <MissyDaGreatTTV> Make sure you support my very special ladyfriend\n",
            "1628422930865565703 2023-02-22 15:54:16 +0000 <nyxnivis> @bbeetheth Mulan is good  The other three are great at worst\n",
            "1628422930429358082 2023-02-22 15:54:15 +0000 <ppatrong> Not every boss, manager, or supervisor is a good leader. Good leaders must be committed, have strong personalities, and stay focused. Some people can become good leaders over time. Others have the confidence and vision to be great leaders now, but others must start from scratch.\n",
            "1628422930219651072 2023-02-22 15:54:15 +0000 <KarisaAnnLMT> @SassyMetisChick Remind me not to cross you lol. Have a great day!\n",
            "1628422929707855872 2023-02-22 15:54:15 +0000 <Fred058104> @TalesofSeries The Plat Trophie is a real mess...3 runs and ultra hard mode? No thanks i choose life...but the game is great nevertheless :)\n",
            "1628422929146081281 2023-02-22 15:54:15 +0000 <scarxhio> @Jimbo19y you're a great oomfie\n",
            "1628422928445452289 2023-02-22 15:54:15 +0000 <sweetpailinXO> @houseXOfballons Sorry SZA is great and all but she doesn't fit the theme or the mood of the song ariana will be absolutely perfect and I can see the remix of DFY even crushing the SYT Remix\n",
            "1628422927141019652 2023-02-22 15:54:15 +0000 <MartinDBA> @thatjeffsmith @OracleSQLDev @OracleDatabase c/apparently/vehemently/ 😀This is going to be great!\n",
            "1628422926931304448 2023-02-22 15:54:15 +0000 <RAO_Designs> @theChrisDo Sheesh ... Depends. I'm in one of those right now and I'll openly admit that it had better be a really great carrot 🥕 to dangle for 50%\n",
            "1628422926335881218 2023-02-22 15:54:14 +0000 <ParashramtheBo1> @MadScie27791730 @CoinList Even my account also same thing pls can anyone help in unfrezing coinlist account , it will be great help\n",
            "1628422925987590145 2023-02-22 15:54:14 +0000 <GrandmaMartinos> Easy Cheesy Stuffed Shells Recipe !!! Adapted from:  https://t.co/UW94Dv78AN  Get More Great Recipes at:  https://t.co/IwHGWJTtQC !!! #Recipe #GrandmaMartinos #ItalianFood #GeorgiaGrown  https://t.co/DFjoGbwJrM\n",
            "1628422925803028487 2023-02-22 15:54:14 +0000 <ColinMcD0UGs> @mr_nicholl No jalapenos 🤣🤣 just a wee tomatoes, she's looking good , and a great pic 🐕👅\n",
            "1628422925261889536 2023-02-22 15:54:14 +0000 <Stage3Finance> @Successhark put together some great visuals around growth and mindset.  I'm learning the importance of patient and persistence.\n",
            "1628422925069037577 2023-02-22 15:54:14 +0000 <Skippy988> @GlosPolDogs @PD2026QUEST Great job Nika #TheNoseKnows 😄👍\n",
            "1628422924213288962 2023-02-22 15:54:14 +0000 <trueAFICIONADO> If nobody talk about you, it means u aren't doing well, the fear of peter obi our incoming original president is really causing headache among the enemies of our great country...Peter OBIDATTI Aso rock direct in Jesus name Amen.\n",
            "1628422923730944003 2023-02-22 15:54:14 +0000 <killaace302> @SgtFidget Toxic survivor gameplay 😂 great body block!\n",
            "1628422923315826691 2023-02-22 15:54:14 +0000 <MoualdiIsmael> @K002Abhi Not good?? It’s really great tho🔥🔥\n",
            "1628422923299000320 2023-02-22 15:54:14 +0000 <AskTSA> @kennytwits 1: Great question! Travelers may continue to use their current driver's license and ID cards, even those marked \"Federal Limits Apply\" at airports nationwide.\n",
            "1628422922711842817 2023-02-22 15:54:14 +0000 <de_a_fna> @dalarbardi 🕯🕯\n",
            "1628422920761376768 2023-02-22 15:54:13 +0000 <LiquidLizard_> @JamesMcDEGEN Great list ser 👌 I'm in $ORD and $LSD, growth potential on both is...  https://t.co/lJrN3o74n1\n",
            "1628422920543539203 2023-02-22 15:54:13 +0000 <Medabunny> @iamlunasol I'm not all that great (I'm still new to a tablet, and my motivation to draw can be low sometimes lately...), but here's some of my art pieces that I am pretty proud of 💕  https://t.co/VxhP61QmHe\n",
            "1628422920094552068 2023-02-22 15:54:13 +0000 <ContornoMarzia> @Quinncats5 I think too, he lets people to find inspiration!!! Great 😊\n",
            "1628422920052658178 2023-02-22 15:54:13 +0000 <ZER0oo0oo> @aylaelmoussa @NudeYogaGirl @noble_gallery so great\n",
            "1628422919855415297 2023-02-22 15:54:13 +0000 <BACHAGALOOP_> @stillgray great if your a drug dealer\n",
            "1628422919566110721 2023-02-22 15:54:13 +0000 <ENadaju> @MaxConw30430669 @SoCalChrisWTF @dicrnbd @Emho1982 @7YRBitchLasagna (thought you might find this conversation interesting enough to jump in on seeing as it's SoCal Chris he wants to reply to him and not me. I am just a woman after all and he, as a man obviously had a great superior intellectual capacity for…\n",
            "1628422919167610881 2023-02-22 15:54:13 +0000 <snydercutfan> @steusmotus Henry got great agent yes?\n",
            "1628422918517534720 2023-02-22 15:54:13 +0000 <ZBro66> @dickmasterson Great post!\n",
            "1628422918232317954 2023-02-22 15:54:12 +0000 <BlackGSODMG> @managingmadrid Not as long as we stay focused no, but it doesn't hurt talking with respect Liverpool is still a great team.\n",
            "1628422917800296450 2023-02-22 15:54:12 +0000 <Shamone95> @raphousetv2 T.I he has hella great hits\n",
            "1628422917728923649 2023-02-22 15:54:12 +0000 <MdRatwani> @JulioHuapayaMD @atsearlycareer @NIHCritCare @nih_nhlbi @CCMedEd Great job @JulioHuapayaMD!\n",
            "1628422917183635457 2023-02-22 15:54:12 +0000 <Lulubobcat1> @jontester Thank you for running again Senator Testor! I recall when you won your senate seat the first time - I thought, “I like this guy, he’s gonna do great things…” Yep, I’m a genius 😎\n",
            "1628422916642594816 2023-02-22 15:54:12 +0000 <janus_ianus> Great film &amp; still looks amazing!  The Pulse [Koyaanisqatsi]  https://t.co/ILrZrDBb1I via\n",
            "1628422916474798080 2023-02-22 15:54:12 +0000 <TheOrkishslave> @PixelPlato Don't know why but this reminds me of Type O Negative's \"Bloody Kisses\" album cover. Looks great!\n",
            "1628422915820593152 2023-02-22 15:54:12 +0000 <Red_Rocket100> @etbassler @apgun222 @CycloneLarry69 Duke undergrads get in for free. Baylor should as it is a prestigious school and not by any means strapped for cash. Would Make for a great atmosphere. Daughter nearly went to Baylor med school in Houston, she preferred Mayo Clinic. They don’t even have an athletic department 😖\n",
            "1628422915522805760 2023-02-22 15:54:12 +0000 <DW451976> @gsd_my_soul German Shepards are great dogs\n",
            "1628422914923020288 2023-02-22 15:54:12 +0000 <BlitheringIdjit> @itsanoformi @_vangelis_66 @reddit_lies Petroleum is not limited. Even the term fossil fuel is a misnomer, created to give the illusion of scarcity. And it has worked great on you. They do the same thing with diamonds too.\n",
            "1628422914751049728 2023-02-22 15:54:12 +0000 <Outkick> The great @RyanBurr has returned to @DontAtMeDD and he’s ripping @dandakich for his latest take🚨⬇️   https://t.co/JU6I5EN73b\n",
            "1628422914600013825 2023-02-22 15:54:12 +0000 <TheRealRoyBatty> @RileNFTs Hey Rile, hope you have a great day\n",
            "1628422913757159426 2023-02-22 15:54:11 +0000 <apixtwts> 6. Simulation  The simulation of your own fighter against preset models is great, it could be even better with more options.  For example, let us simulate against our older models to check improvement.  Or play against \"dumb\" models which are more like the fighters by the players\n",
            "1628422913324900354 2023-02-22 15:54:11 +0000 <NerdShinobi> @rwa_ Isn't that a great way to go for a mistrial or at least allege case tampering/bias/etc and give the jerk some options he didn't have to weasel his way out of this?\n",
            "1628422913014595589 2023-02-22 15:54:11 +0000 <dia797> @JackRuleLD @NoBallsTCP Yeah it was a great surprise, went to listen to an old one to pass some time and it was there like  Christmas present 🤣\n",
            "1628422912335048706 2023-02-22 15:54:11 +0000 <brantleyktucker> dusty baker being annoying before the season even starts! great!!\n",
            "1628422911961841664 2023-02-22 15:54:11 +0000 <chris8fernandes> @rumpythefounder It's absolutely great that more young people want to be entrepreneurs. Just important to not become a wantrapreneur and actually have a solid go.\n",
            "1628422911794065409 2023-02-22 15:54:11 +0000 <coo_kyei> @Livlaughlovee1 @_Manikhaan @Alade_xr @_blaise250 @moolabaddest @karimikabi @FloridaEfrem @a_great_human1 @Kiteto_boy1 @d_mad7x @DogmaTicis @PaulAnd47857929 @Ngumbau_itu @Obatoto_z @JustObiadiah @keizbrayo @MbandiAlex @coo_kyei\n",
            "1628422911404158977 2023-02-22 15:54:11 +0000 <thepopcorps> REMA’S NEW ONE IS GREAT (GOD THEY’RE MAKING US FEEL OLD)  https://t.co/ZCB1MzTP6E\n",
            "1628422910959357953 2023-02-22 15:54:11 +0000 <AllanPe51463411> @Jermz13 @ShaneWilk41 @danielleevans44 @TrevorHickey81 @OFFSIDETALK @victoriastewxrt @Leaf4Ever @mcm55leafs @P_A_double_P @DJsportsTOguy @jebba67 @danidel62 @tavmarnythews @FanalystSteph @FarmerRob17_ @Leafknowitall64 @13_91Leafs @BGamer1994 Thanks Jeremy! Another great article &amp; read! I agree that Dubas is still working on something &amp; a Dman is going to be his next target! It’s going to be interesting to see who he goes out &amp; gets! Thanks again Jeremy.\n",
            "1628422910087147521 2023-02-22 15:54:11 +0000 <ItsKira27> If you dont know, I Change My Schedule to 8pm EST. By changing the schedule, I can Stream Longer and Less Anxiety. I'm Not Give up to give you Great Content and Dont Give up to support me. Mega Love for you My Family. I Will See you Very soon   #Kira4EverForward\n",
            "1628422909965246464 2023-02-22 15:54:11 +0000 <puregoldj> @BubbatheOG Great response! Read about ideas to understand them. I took a course called “Communist Political Thought”. It wasn’t about trying to create commies. It was about getting a better understanding of history &amp; international politics; understanding the way communists think &amp; act.\n",
            "1628422909873082368 2023-02-22 15:54:11 +0000 <andyricflair> @Fightful @SeanRossSapp Fair tbh. Great wrestler lost in the shuffle chasing growth. They tried with the elite hunter gimmick but it didn’t really work.\n",
            "1628422908774350848 2023-02-22 15:54:10 +0000 <liljupitersam> @Mewkyo2 GM Mew, have a great day today!☀️✨\n",
            "1628422908149374977 2023-02-22 15:54:10 +0000 <Mcgrew1589> @Jclineshow GM buddy, hope it’s a great day\n",
            "1628422908124200963 2023-02-22 15:54:10 +0000 <PresidentBoneS2> @PrettyMadhouse @ThanksFLMS That’s great! 👏👏🙏👏👏\n",
            "1628422906794373124 2023-02-22 15:54:10 +0000 <richyschuller> @mikcosentino Wow....Great Thread @mikcosentino thanks for the heads-up Bro  Would love it if you gift me one of your NFT....Just a request 😊😊\n",
            "1628422906186194944 2023-02-22 15:54:10 +0000 <THEBUSHYHEAD> You going live tonight @Trainwreckstv? It’s my 10 year wedding anniversary and would be a great way to end the night.\n",
            "1628422905796395008 2023-02-22 15:54:10 +0000 <SanathNarayan02> @altintosh Oh thats great\n",
            "1628422905792016384 2023-02-22 15:54:10 +0000 <EndeavorJo> We're excited to kick off cohort 3 of #theleap with 15 fellows. The #leap is a fellowship program aiming to help executives make the leap into entrepreneurship, by exploring  ideas &amp; ventures, and to see them come to fruition.   Great thanks to the @ArabBankGroup for the support.  https://t.co/KX1zsuw2k5\n",
            "1628422904856674307 2023-02-22 15:54:09 +0000 <mrystark> @DDO__xyz Happy birthday, dear! I wish you all the best and to have a great day ❤️✨\n",
            "1628422904583946242 2023-02-22 15:54:09 +0000 <suetonicsonic> @Kimberstar_ This is such a raw line to have come from a movie called Kung-fu Panda.  Great work here!! 💖💖💖\n",
            "1628422904068308992 2023-02-22 15:54:09 +0000 <tommckeever3> Don Le'mond is on his way out🥳Dip-stick Geraldo would be a great line up on the Dumpster😮‍💨Station CNN😏\n",
            "1628422903833276416 2023-02-22 15:54:09 +0000 <Great_Al> @jitel_rf Барин сожрал и выкинул, а холоп банку, как красоту неведомую дома на самое видное место поставил.\n",
            "1628422903766175745 2023-02-22 15:54:09 +0000 <meddlingmike> @Enezator Hardly a great distance\n",
            "1628422903644422145 2023-02-22 15:54:09 +0000 <BerdanKristin> 🔥 of The Table  🔊 The \"official\" Release of  The Great Lakes 500 has not been Released Yet.  While everyone was distracted.... The \"inside\" Scoop  https://t.co/n64T0Qiibt\n",
            "1628422902767910912 2023-02-22 15:54:09 +0000 <NaiboVisuals> @Julio_tnim Well said Julio! Also just know I am pronouncing the J heavily as I type  coz you can’t hear me! Lol great shots!!!\n",
            "1628422902444875776 2023-02-22 15:54:09 +0000 <Fricke250> @HIDEO_KOJIMA_EN Great movie\n",
            "1628422902285762560 2023-02-22 15:54:09 +0000 <apixtwts> 3. Simple training presets suck  After teaching your fighter, you need to decide on parameters to configure the model.  There is a \"simple config\" with only a few options to choose.  The idea of a simple config is great, but the results were almost always underwhelming for me...  https://t.co/FPwGvZlWgW\n",
            "1628422901924864001 2023-02-22 15:54:09 +0000 <NwakaLastborn1> What makes most people fear 😧   Is what makes few people great 😊  So pay the price and become the person you should be . *Make research on that particular business like your hunting for exams  Good evening 🌇 all ❤️\n",
            "1628422901660614663 2023-02-22 15:54:09 +0000 <scott_grimes78> @CalltoActivism Such great news!! Wisconsin will be able to legally murder babies!! Such a sad thing to be excited about. #BabyLivesMatter\n",
            "1628422901115355137 2023-02-22 15:54:08 +0000 <aubstwts> @sahloana Ooo yes! Wednesday is a great show! I’ll probably do my errands and then come back home to relax since I have the day off from work 😁\n",
            "1628422901065224195 2023-02-22 15:54:08 +0000 <Moondoggie2020> @chandra_nitish @cmkshama It's irrelevant because the City of Seattle is on life support.  It's literally dying on it's feet and they focus on this.  LOL Seattle can't get out of it's own way.  This is why companies are abandoning downtown.  A once great city turned into complete garbage. Thanks to libs\n",
            "1628422901044236288 2023-02-22 15:54:08 +0000 <Unsettled_USA> @JDoor23 @markeatsmeat Yeah I’m going to stay on track and keep at it. I realize being a diabetic as well the damage I’ve done for the last 16 years may take some time to fix.  Hearing from others is always great for motivation. Thanks for sharing\n",
            "1628422899819491328 2023-02-22 15:54:08 +0000 <LeslieMartind> @edaphd_glasgow @cmkshama Great step in realising the equities in human relationships with nature .. Spread the love☺\n",
            "1628422899353649155 2023-02-22 15:54:08 +0000 <Wicky_dubs_WX> @ChrisReeceWX @ClappedDan Great job as always chris!\n",
            "1628422899043561474 2023-02-22 15:54:08 +0000 <RajG50146543> @allarinaresh @chay_akkineni @mirnaaofficial @DirVijayK @sahugarapati7 @harish_peddi @Shine_Screens @SricharanPakala @brahmakadali Families missing the old you bro!! 🤕 @anudeepfilm  and you combination would be great!! DJ tillu lanti scripts accept cheyyandi!!\n",
            "1628422898686853120 2023-02-22 15:54:08 +0000 <Hoop65_TheGreat> LMFAOOOOOOOOOOOO diggin for gold\n",
            "1628422898539962374 2023-02-22 15:54:08 +0000 <TheGreatWilson> @Thedukeistheman @Craig84671918 @atheist_bad In order to construct proper analogies, you must have details that are analogous to every instance of the most essential traits, components, and mechanistic properties of each analogous pair.  In your trap, the fault of the premise is you infantilized God &amp; made Bob responsible.\n",
            "1628422898216992769 2023-02-22 15:54:08 +0000 <Nightspiritwing> Here's a speed video of me working on a badge :)  https://t.co/UYIdUeE56R\n",
            "1628422897680121856 2023-02-22 15:54:08 +0000 <Tim_Yocum> @imanimosley This will be interesting to watch unfold. A great example of Fair Use - maybe.\n",
            "1628422897462116355 2023-02-22 15:54:08 +0000 <quaefrmda6ix> @I_Am_The_ICT No anxiety just excitement unattached from monetary gain the mentoring experience is great👌\n",
            "1628422896438714368 2023-02-22 15:54:07 +0000 <HarryHamishGray> Great to see @limebike scooters being used on the Trafford Road micro mobility lanes !  https://t.co/wA0HDJgTIJ\n",
            "1628422895566290944 2023-02-22 15:54:07 +0000 <Goburin56699242> Great to see you in generated NFT industry. @AyubaGaruba @gabrieltdev @BamsMass @hebbarmail @Seyiibtw @akiooo3 @TheBaldSniffer @Dev_Topics @notegguwu @JustAuInt @yt_duro @nedsnurb @changzhangkk @LordBonkus\n",
            "1628422894723162114 2023-02-22 15:54:07 +0000 <GreatOrmondSt> \"Brave\", \"Strong\", \"Love\"... take a look at these lovely messages of hope created by our patients and staff last week, in honour of International Childhood Cancer Day. 💙  https://t.co/PEnmCXZDPw\n",
            "1628422894136045574 2023-02-22 15:54:07 +0000 <ThePrblmSlvr> @BrandonWint_ Definitely it’ll be a lonzo lamelo situation. Bronny going to be great. Bryce going to be elite.\n",
            "1628422893460918273 2023-02-22 15:54:07 +0000 <TeamDavidsonRE> The Coldest Night of the Year will be held Feb. 25 to support families and individuals in need of food and housing. Our team has donated to this great cause and here's what you need to know if you want to get involved:  https://t.co/7bBVrAJWcN #RealEstateAgent #HomeSweetHome  https://t.co/I4qBUpChyL\n",
            "1628422891262951424 2023-02-22 15:54:06 +0000 <tonyblackburn> Looking forward to seeing you tomorrow at The Town Hall Cheltenham for our ⁦@BBCRadio2⁩ Sounds of The Sixties tour. Fun and great music is guaranteed.  https://t.co/JVYf8ojXGV\n",
            "1628422890507862016 2023-02-22 15:54:06 +0000 <Ahmedlizq> @allawatiy @royalhospital_ @RawahiAziza @salfarsi373 @aamedalaraimi @amrredha @DrNasserBusaidi Very well done dr Yaseen and the team. Great step forward in our beloved country, Oman.\n",
            "1628422890348584960 2023-02-22 15:54:06 +0000 <Anne21048532> @RichardBurgon So pleased someone is finally trying to stop this disgusting greedy behavior theyre earning fantastic wages and then get subsidies on God and drink all paid for by low paid taxpayers theyre good at given selves great wages rise then get even more 1000s from a2nd job mp job con 😡\n",
            "1628422889853669378 2023-02-22 15:54:06 +0000 <burgundyswift> @PopBase @selenagomez THE QUEEN OF INSTAGRAM\n",
            "1628422889568436231 2023-02-22 15:54:06 +0000 <BruceWorrall8> @atensnut Pete’s still chest feeding..he doesn’t know how to do his job😖🔥😡\n",
            "1628422889425760257 2023-02-22 15:54:06 +0000 <Medistik> @SportRehabPaolo @sportsrehabTO Sounds like a great addition!\n",
            "1628422888947855360 2023-02-22 15:54:06 +0000 <combatfaerie> @PiperNivenWWE Good morning! Hope you're having a great week so far.\n",
            "1628422887513239552 2023-02-22 15:54:05 +0000 <GrimSlayo1> Great! 😁\n",
            "1628422887303520256 2023-02-22 15:54:05 +0000 <FlipAndTheCE> I’ve been WAITING for this one! Eric is a great dude and has been one of our biggest supporters since day one! Give it a listen :)\n",
            "1628422886544531456 2023-02-22 15:54:05 +0000 <dallasgmorin> @JordanCleland @oldhockeycards Great explanation! Dally approved!!!\n",
            "1628422885332090880 2023-02-22 15:54:05 +0000 <CodyEdds> Reformed Baptists have seen a resurgence recently in hermeneutics, liturgy, and classical theism. But rarely are the three brought together. This is a great example of Reformed Baptist scholarship that rights the wrong.   https://t.co/KDfenJvREs\n",
            "1628422884153602055 2023-02-22 15:54:04 +0000 <EagleShery> @Khaled_3_1991 @TourismandAntiq @CabinetEgy محد بيسمع\n",
            "1628422882836594690 2023-02-22 15:54:04 +0000 <ElDunko96> Wizard Wednesday was a great success!  Hogwarts legacy is absolutely phenomenal and I can’t complain about it 🤌🏻  Feel like I’ve been hit by a truck so recover tonight and we’ll be back tomorrow for rivals!\n",
            "1628422881515302912 2023-02-22 15:54:04 +0000 <Lynchables_> This is elite talent. Jumpshot is clean and compact. Court awareness is excellent on both sides of the ball. Athleticism is great. Decision making is great. No doubt he will he a top 10 pick.\n",
            "1628422881494585345 2023-02-22 15:54:04 +0000 <Joydeep709> Great to be a part of the 🥇 Gold Medal journey at the World Cup. Fantastic show by Aishwary Pratap in 50M 3 Positions. @issf_official @Media_SAI @NRAIofficial #coach #coachlife #indianshootingteam 🇮🇳 #worldcup #shootingsports @RaninderSingh  https://t.co/XSOlpXhve5\n",
            "1628422881037148165 2023-02-22 15:54:04 +0000 <chaesources> 230222 || @JYPEITZY_JP TWITTER UPDATE  ITZY THE 1ST WORLD TOUR &lt;CHECKMATE&gt; in JAPAN DAY 1  The first day of the performance has ended successfully! We finally met MIDZY ♡ Everyone was really great!  Let's enjoy tomorrow together ❣ MIDZY Daisuki  #ITZY #MIDZY  #ITZT_WORLD_TOUR  https://t.co/gWGDJX95Ak\n",
            "1628422880743788550 2023-02-22 15:54:04 +0000 <bishnuvardhan> Excited for the start Tomorrow!! So many great setups 📈 🎯Learn how to trade the right way  https://t.co/3QI1laZ0f8  $AMZN $AAPL $BA $BABA $FB $TSLA $MSFT $ROKU  https://t.co/7CWk8xvpqt\n",
            "1628422879804272641 2023-02-22 15:54:03 +0000 <bellashafr08> 💫🤨😅😀💘 Or exist great meet leg TV. classics  #北京   约 炮  https://t.co/o7D3rJuAoO\n",
            "1628422879720218624 2023-02-22 15:54:03 +0000 <deVereAusGroup> Great news for the Australian economy!   The Reserve Bank has signalled confidence in our recovery by indicating further rate hikes.   Let's keep the momentum going!   Read on to find out the full story.   #economicgrowth #positiveoutlook #deVereaustralia   https://t.co/kw0GPlJy6T\n",
            "1628422879476940800 2023-02-22 15:54:03 +0000 <CassiusGreat> @chefdangalhardo Clássico é Fla x Flu Isso aí é aberração\n",
            "1628422878843613184 2023-02-22 15:54:03 +0000 <audjai4> @adebimpe_omoba @ichaka_bv @PeterObi Did you say that Tinubu is coming to your house? Are you one of his great grand children?\n",
            "1628422878776672256 2023-02-22 15:54:03 +0000 <apixtwts> 3. Record loop of the dummy AI  With update 2., players were also able to control the dummy and record a short set of movement to train in more detail.  This opens a lot of possibilities for training which is great.\n",
            "1628422878650572801 2023-02-22 15:54:03 +0000 <vl0nelyshinobi_> Happy Wednesday everyone, hope you all are having a great day so far❤️.\n",
            "1628422878612885504 2023-02-22 15:54:03 +0000 <cheetybees> If @NicolaSturgeon had been asked about her trans beliefs before becoming a great leader, she would be facing the same poo that’s getting shoveled at @_KateForbes\n",
            "1628422878570901509 2023-02-22 15:54:03 +0000 <koyangisani> i hope everybody has a great time tonight, pls send me lots of sani pics and vids 😔\n",
            "1628422878096924672 2023-02-22 15:54:03 +0000 <icglr1> 📍Today, a virtual meeting was held with the lead of the ICGLR Directorate for Gender, Women and Children, between @icglr1 team and @fecclaha. Ways of strengthening collaboration 🤝on mutual concerns such as the women, peace and security agenda were discussed.  https://t.co/rR0mBEheFv\n",
            "1628422877488857089 2023-02-22 15:54:03 +0000 <Skimzz_> @FatBoiDonn @Dehfy_ I played so great didn’t I\n",
            "1628422877203816448 2023-02-22 15:54:03 +0000 <Potato_Saladzue> kwartaaa mo diraaaa\n",
            "1628422874603159555 2023-02-22 15:54:02 +0000 <CoachHull2> @JHSFootball1 Well deserved honor for a great hard working young man. Made himself into a pretty good football player! Proud of you Sean!\n",
            "1628422873982328835 2023-02-22 15:54:02 +0000 <tarynmdelong> @m_b_baker I always feel weird saying “happy Ash Wednesday,” but this is a great point!\n",
            "1628422873839812610 2023-02-22 15:54:02 +0000 <KathleenAFranck> @MetroRichmondYD @JennMcClellanVA @vademocrats @VAYD @RTDNEWS Jenn will be a great Representative for Virginia 🙏🏼💙😻\n",
            "1628422873533632514 2023-02-22 15:54:02 +0000 <bluereaper60> @Craigs_VCR The milk, and chicken are great places to start  Smh\n",
            "1628422873055363072 2023-02-22 15:54:02 +0000 <siadvance> Great balls of fire! What does a flambé do to food  . . . and what’s the best booze to torch?  https://t.co/nN5sw1PiOZ\n",
            "1628422872103370752 2023-02-22 15:54:02 +0000 <ReggaeJones> The weather is great. Hopefully I got enough for my neighbors too.. @KamalaHarris  https://t.co/aVHO4qkJek\n",
            "1628422871893540864 2023-02-22 15:54:01 +0000 <tvcrazyman> 70's TV goofs of great shows you probably missed the first time around  https://t.co/dDbUfHhO36 #television #classictv #classictelevision #tvsuperheroes #hulk #sixmilliondollarman #wonderwoman #goofs #bloopers\n",
            "1628422871268618240 2023-02-22 15:54:01 +0000 <keizbrayo> @Livlaughlovee1 @_Manikhaan @Alade_xr @_blaise250 @moolabaddest @karimikabi @FloridaEfrem @a_great_human1 @Kiteto_boy1 @d_mad7x @DogmaTicis @coo_kyei @PaulAnd47857929 @Ngumbau_itu @Obatoto_z @JustObiadiah @MbandiAlex @keizbrayo ifb\n",
            "1628422871046397953 2023-02-22 15:54:01 +0000 <Drackas2> @Halo6Better Please stick to memeing Halo stuff  Do dumb shit like this on an alt or something like that\n",
            "1628422870828187648 2023-02-22 15:54:01 +0000 <JShawnTru07> @Phil_Lewis_ Don Lemon please take the hint.  You had a great run at @CNN and you not in their future plans so hopefully you have an exit plan and move on from that network\n",
            "1628422870689886209 2023-02-22 15:54:01 +0000 <paulobr70859109> @JennieSTaer @DailyCaller Good reporting   Great job. Shows what a fraud this clown is and perfect example of this administration. Thank you.\n",
            "1628422870115270659 2023-02-22 15:54:01 +0000 <gardeng90552569> @RNLI Great to see this. Two amazing Dads names are on there. ❤️💕\n",
            "1628422868399804416 2023-02-22 15:54:01 +0000 <CarlosmBBT> @SusanRizzi5 🤬 😂   Love the zero violations!!! So clean, great job!\n",
            "1628422868206817281 2023-02-22 15:54:01 +0000 <lindsaynmwrites> 🎉🎉🎉 Such a great book, so well deserved!\n",
            "1628422868122869761 2023-02-22 15:54:01 +0000 <23_FreshPrince> These doors keep opening more and more the more that I go thru, I’m thinking bout trip’n to Bora Bora and taking my whole crew!!!\n",
            "1628422867493740546 2023-02-22 15:54:00 +0000 <sehnisweet> @ximonisnotbed I’m so excited! It already sounds so great just from this video\n",
            "1628422866772590593 2023-02-22 15:54:00 +0000 <Fernifer15> @SamTheComicNerd @TheQuartering That is hardly historically accurate. A great many people have changed the world by being nice. Gandhi, MLK, Mandela, Cleisthenes, Solon, Jesus Christ. They meaning who?\n",
            "1628422866650669057 2023-02-22 15:54:00 +0000 <burgundyswift> @PopBase @selenagomez kylie paying for 200K followers is so 😹😭\n",
            "1628422865761468416 2023-02-22 15:54:00 +0000 <jokamble> @SudarshanNewsTV @SureshChavhanke when 3/4 people raised swords just to celebrate Shiv Jayanti, some 'journalist' tweeted the picture with great objection. I haven't seen any @sardesairajdeep @RanaAyyub @khanumarfa OR @AltNews  tweeting or fact checking about this ALL 👁️👁️CLOSED?\n",
            "1628422865401028609 2023-02-22 15:54:00 +0000 <ni1an1> 28 and feeling great!\n",
            "1628422864754843650 2023-02-22 15:54:00 +0000 <ossingtonbia> We will be sad to see @freshcityfarms leave #Ossington. They have been a great community grocery go-to hub.   Today is their last day and they have 50% off almost everything today!   🍎🍋🍊🍓🥑🥦🥕🌶️🫑🧀🥖🥗  https://t.co/owrEwErkSO\n",
            "1628422864067256320 2023-02-22 15:54:00 +0000 <NEWS923> Looking forward to the walk across the parking lot 😮 Have a great day! Thx for your RTs &amp; comments @AZMorningNews @ktarroller @DonnaKafer @auntric @MyaVoice1 @chadbensonshow @TabudosJorge @leewagon93 @jrbrat13 @Larry2411516 @MiguelJuanTabo3 @Livingston4AZ @DawgGoogles 🌻🥰  https://t.co/dGYQ44b5tr\n",
            "1628422863777562628 2023-02-22 15:54:00 +0000 <BridgettMcDerm3> @chrisparente @katieorth @KenClarkTV @WeatherMichels @channel2kwgn Love ❤️ wild life Wensday!! Always great 😊 wildlife info. Fun 🤩 on outdoor state park fun 🤩\n",
            "1628422862204805121 2023-02-22 15:53:59 +0000 <spidahdoteth> @FlysAlpha Great time to unload all the pfps of the past…\n",
            "1628422861772800004 2023-02-22 15:53:59 +0000 <CaaligulaGaius> The beginning of this great journey😍\n",
            "1628422860510208003 2023-02-22 15:53:59 +0000 <engremmy18> @PeterObi What a touching piece!!! I deeply wish you and Nigeria a great Victory!!! @PeterObi  you are a great man\n",
            "1628422859646173185 2023-02-22 15:53:59 +0000 <dippydash11> @gwyngjones1 @andersleijersta No Great in Britain no more .. it’s a country who care more for immigrants, criminals &amp; the woke  brigade… decent people now second class citizens… charity begins at home\n",
            "1628422859075866628 2023-02-22 15:53:58 +0000 <ResonateCom> #RememberingTogether #Clackmannanshire  Stage 1 complete here in #Alloa and great to celebrate the community co-creating journey with Clacks Panel Members, Mentees, Venue Partners, Resonate Team Members and Alloa Writers, Artists and Photographers 💕  https://t.co/ij0qi29QJf\n",
            "1628422858845331458 2023-02-22 15:53:58 +0000 <exlipseli> found a rlly great song ( again )\n",
            "1628422858098573313 2023-02-22 15:53:58 +0000 <marydadoll> my nail tech and i have great conversations. i love going to her\n",
            "1628422857855213570 2023-02-22 15:53:58 +0000 <theanswer76_> @ThePagePlug @djgg11_ @DetectiveDrip_ Good for you but his son isnt in there with him 🤣 seems different\n",
            "1628422857628827648 2023-02-22 15:53:58 +0000 <Rael571> @Cotswolds_D How resourceful of you - it looks great!\n",
            "1628422857607811072 2023-02-22 15:53:58 +0000 <BioDataCentre> Great to see this @IrishStoatSurv launched!  You can find out more about the project and this beautiful elusive mammal here:  https://t.co/kfsuILTqiv  And you can submit your sightings here:  https://t.co/N0rcXC3RXL\n",
            "1628422857591062530 2023-02-22 15:53:58 +0000 <BriThaCryptoGuy> @nikos_ec GM Niko, have a great day Fam  ☺️☕️💎💛\n",
            "1628422857398050824 2023-02-22 15:53:58 +0000 <jbminatra> @vtfishgirl1 TYSVM + Good Mornin' Linda ☀️♥️🥰🙏🌻🦋😎 Great to see ya here 🥰😍\n",
            "1628422856601137153 2023-02-22 15:53:58 +0000 <vivekmjacob> Asked Precious about fellow Nigerian Burna Boy's halftime performance:  \"He's a great performer and he's great at what he does, that's why he was there... I'm glad Pascal was able to make it with the camera so he recorded -- I'll ask him for footage so I can watch up close.\"  https://t.co/HTwui3ncoo\n",
            "1628422856156581888 2023-02-22 15:53:58 +0000 <EagleShery> @ManalMahfouz8 @22022Nada جهل أمة\n",
            "1628422855800102916 2023-02-22 15:53:58 +0000 <TheBrandedSword> Just great  https://t.co/HQJ7C553Rn\n",
            "1628422855011577860 2023-02-22 15:53:57 +0000 <RKOLemonJack> @BattleArmorDad Great episode! I watched it last night. It's so cool to see most of the Masters/evil warriors on screen together!\n",
            "1628422855011491840 2023-02-22 15:53:57 +0000 <stacykyla667> It would be a great &amp; very cost effective way to try &amp; address the resource curse problems in Newfoundland...by piggybacking on the investment &amp; expertise developed in Alberta &amp; applying what works to address the problems in Newfoundland...Alberta would be doing the heavy lifting\n",
            "1628422854789169152 2023-02-22 15:53:57 +0000 <Omn1Media> Another great episode at building out the world and growing Omega! This time showing the effect she can have on people! Some disgusting stuff happening in the galaxy! #StarWars #StarWarsTheBadBatch #TheBadBatch #BadBatch   STAR WARS: THE  https://t.co/gLlBs26qOQ…\n",
            "1628422854726533121 2023-02-22 15:53:57 +0000 <GurSidhuInsan1> Life is a precious present of God for human beings. To make it happy and blissful,Saint @Gurmeetramrahim Ji has given golden tips which are adopted by crores of people that proven very beneficial for them to lead a great life with supreme humanity values.  #LifeLessonsByDrMSG  https://t.co/5u8QUtBtuM\n",
            "1628422854625689600 2023-02-22 15:53:57 +0000 <Bernice449> @Gifts4Ukraine This sounds great!  What network or program will it be airing on?\n",
            "1628422854344572928 2023-02-22 15:53:57 +0000 <TrentAATheGreat> @tccentertainmnt i got lil baby. im saved\n",
            "1628422854013292544 2023-02-22 15:53:57 +0000 <dwdkstr> Voor het meertaligheidsproject Wurdspøken schreef ik samen met de great Danytha en beatgoochelaar Qbeast in twee dagen de Fries/Drents/Nederlandse Hiphoptrack 'Tussenlân' in de studio's van Lake Woozoo. Dag drie namen we een live-video op✌️:  https://t.co/8mD1iPjPGf\n",
            "1628422853820403713 2023-02-22 15:53:57 +0000 <GregorOgholi> While you're here, my name is Great Ogholi, a real estate consultant and I help Nigerians to create predictable, consistent and perpetual cash flow through assets to be able to live a life of their dreams on their own terms. Feel free to connect with me.   https://t.co/i0mwUxRQyV\n",
            "1628422853526753281 2023-02-22 15:53:57 +0000 <Ugo_only> @great_ugwuzuo Please stop bringing drags to Bryann ,let him stay out of it,like where did all this come from abeg\n",
            "1628422853245784064 2023-02-22 15:53:57 +0000 <AjunamJohn> @PeterObi Brothers and sisters, it's in our hands, to make of  Nigeria what we choose. Let's make it great!!!\n",
            "1628422853098975236 2023-02-22 15:53:57 +0000 <belovedaristo> @pieratttt Nightmares always have great palettes\n",
            "1628422852969123840 2023-02-22 15:53:57 +0000 <Kev__Berry> It's funny, clients often become friends, but friends don't make great clients often.\n",
            "1628422850658058240 2023-02-22 15:53:56 +0000 <domjnieto> @spencercamp @Shpigford @mercury Can I join the beta? Looks great.\n",
            "1628422850657890305 2023-02-22 15:53:56 +0000 <Nicolahlaw> ⁦@ThompsonsLaw⁩ Leeds office attending the ⁦@RMTunion⁩ health and safety conference in York today. Great to share information about the fantastic legal services provided to members. #todayatthompsons ⁦@mallen387⁩  https://t.co/bKGqplzOd4\n",
            "1628422850456563712 2023-02-22 15:53:56 +0000 <MassiveHemorrhd> Great interview. In the beginning, he talks about going to school with President Trump.\n",
            "1628422848892243969 2023-02-22 15:53:56 +0000 <ellisbross> If UNDRIP is NOT Reconciliation??….then what is Reconciliation??… great question as it has a definite answer\n",
            "1628422848673984512 2023-02-22 15:53:56 +0000 <philwonders151> @amandaraedraws Your friend drawing is great\n",
            "1628422848149860352 2023-02-22 15:53:56 +0000 <everythin_g0es> Armys, you guys did great!!!  💜💜\n",
            "1628422847704997890 2023-02-22 15:53:56 +0000 <react_native_eu> Every edition of the #ReactNativeEU #conference is a great opportunity to discuss fresh high-tech issues with experts in the field 🔥 Check it out yourself on September 7-8! 🚀 Book your ticket today to save 42% 👇  #ReactNative #RNEU2023 #RNEUvibe #tech #event\n",
            "1628422847390515202 2023-02-22 15:53:56 +0000 <brianeyremusic> Hey Everyone! I'm playing at Stoney's British Pub TOMMOROW NIGHT Thursday 2/23/23 at 7:00 pm. A great and fun place with good pub grub! The address is 3007 Concord Pike, Wilmington, DE 19803. Hope to see you there!!  https://t.co/YYUKVSQ7Uh\n",
            "1628422845201104898 2023-02-22 15:53:55 +0000 <ryozanbebe> I'm BTS ARMY Japanese grandma. Linda is great, kind BTS ARMY. She uber driver and got shoot at her face by rider last January.  Linda Buford’s expenses    https://t.co/wRuC7kyK49\n",
            "1628422844261765121 2023-02-22 15:53:55 +0000 <The_Chiroport> Congratulations ATL Airport and Chiropractor Shoanmarie Pope! Customer Sandra C. posted the following message about his great experience at The Chiroport at  @ATLairport located near gate A18! #FeelGreatAtTheGate!  https://t.co/J2dDBldEzI\n",
            "1628422843699539972 2023-02-22 15:53:55 +0000 <ERWritez> @_adamsthoughts Great mini-list!  We also got to stay positive and patience. Especially the things we are grateful for.  Though I only do dream journal 😅\n",
            "1628422843653406720 2023-02-22 15:53:55 +0000 <For_GreatUSSR> New post in За Великую Россию! /СССР/USSR: Израиль объявил готовности передать Украине противоракетные системы  https://t.co/eAROr9VRZX  https://t.co/NQxxQ9kTeJ\n",
            "1628422842185293824 2023-02-22 15:53:54 +0000 <MichaelThiessen> Is it better to use ref or reactive?  @vuejs gives us these two great tools, but it can be tricky to know which is the right one for the job.  I explore this question in depth in my latest article:   https://t.co/dzTaiex8Lp\n",
            "1628422842088816728 2023-02-22 15:53:54 +0000 <dietbagel> @robertstephv im in an alexander the great class too…\n",
            "1628422841845841926 2023-02-22 15:53:54 +0000 <golf_safety> @underhillcorp @TurfWarrior4Him Looks like a great product! 🙌\n",
            "1628422841233293314 2023-02-22 15:53:54 +0000 <Andrewdear90> @owenslot I feel like you’ve missed a great opportunity on that headline 🤣🤣\n",
            "1628422838767026180 2023-02-22 15:53:54 +0000 <ruth_newby> @LizzaAiken @BooksForKeeps @neilphilipmyth The Stolen Lake is a great book, I love the bit where Cptn Hughes tries to teach Dido elocution (‘We clean three tweed beads a week with Maltese seaweed’)\n",
            "1628422838683152388 2023-02-22 15:53:54 +0000 <PenningWyse> I love OGCHIEF33/og_n8tiv3! ❤️ 🤣  Such a great positive guy/streamer. All good vibes. Please go give him a follow and check out his stream!   https://t.co/TSBDK33FIk  #twitchstreamer #RetweeetPlease  @PUBG @PUBG_EU @PUBG_US #pubg #XboxSeriesX #PUBGclips #xboxclips #pubgxbox  https://t.co/5ITcLRtuHh\n",
            "1628422838645301251 2023-02-22 15:53:54 +0000 <jaquie_f> Moved people who had paid for their seats and wore a hat at Wimbledon. Classless, clueless and crass.\n",
            "1628422838192418816 2023-02-22 15:53:53 +0000 <Muhdbamallee> ❝Every gift of Allah in this world comes with its challenges. So if you never got something in this world you wanted, that could also be a great blessing because you never know what unwanted challenges you may have faced if you had got what you wanted. Think positive!❞\n",
            "1628422837735227398 2023-02-22 15:53:53 +0000 <LachlanMain> LLANDUDNO. Floating up to the Great Orme.  #Llandudno #GreatOrme #cablecar #NorthWales #Wales #landscapephotography  https://t.co/iyfPeONO0b\n",
            "1628422835784847360 2023-02-22 15:53:53 +0000 <luptonbeers> If it was only us listening, we’d still be having a great time.   See you at Lupton, Jeff!\n",
            "1628422835499573253 2023-02-22 15:53:53 +0000 <koeppeezy> @jovan_deeb Great work and insight!!\n",
            "1628422834975305739 2023-02-22 15:53:53 +0000 <Coredao_Work> 📢Great News! We started an Аіrdrор рrogram for 170.000 of CORE!  🔥Everyone will get an random amount of CORE from the overall рrizе pооl of 500.000$  👇Get your coins now and join our fast growing community!👇 🔗 https://t.co/pN8KNRiJPv🔗  https://t.co/NROcNtHupd\n",
            "1628422834748792832 2023-02-22 15:53:53 +0000 <Ivaralistic00> @YeleSowore You are a good man. But out of all of the good heads the youths have ticked, it's not possible that all of them must emerge. Therefore in this mission to rejigging this great nation on the right part to glory and prosperity, the youths are calling on all ticked good heads 💘\n"
          ]
        },
        {
          "output_type": "error",
          "ename": "KeyboardInterrupt",
          "evalue": "ignored",
          "traceback": [
            "\u001b[0;31m---------------------------------------------------------------------------\u001b[0m",
            "\u001b[0;31mKeyboardInterrupt\u001b[0m                         Traceback (most recent call last)",
            "\u001b[0;32m<ipython-input-3-2825bda5f86b>\u001b[0m in \u001b[0;36m<module>\u001b[0;34m\u001b[0m\n\u001b[1;32m      7\u001b[0m \u001b[0;34m\u001b[0m\u001b[0m\n\u001b[1;32m      8\u001b[0m \u001b[0;31m#run\u001b[0m\u001b[0;34m\u001b[0m\u001b[0;34m\u001b[0m\u001b[0;34m\u001b[0m\u001b[0m\n\u001b[0;32m----> 9\u001b[0;31m \u001b[0mtwint\u001b[0m\u001b[0;34m.\u001b[0m\u001b[0mrun\u001b[0m\u001b[0;34m.\u001b[0m\u001b[0mSearch\u001b[0m\u001b[0;34m(\u001b[0m\u001b[0mc\u001b[0m\u001b[0;34m)\u001b[0m\u001b[0;34m\u001b[0m\u001b[0;34m\u001b[0m\u001b[0m\n\u001b[0m",
            "\u001b[0;32m~/.local/lib/python3.8/site-packages/twint/run.py\u001b[0m in \u001b[0;36mSearch\u001b[0;34m(config, callback)\u001b[0m\n\u001b[1;32m    408\u001b[0m     \u001b[0mconfig\u001b[0m\u001b[0;34m.\u001b[0m\u001b[0mFollowers\u001b[0m \u001b[0;34m=\u001b[0m \u001b[0;32mFalse\u001b[0m\u001b[0;34m\u001b[0m\u001b[0;34m\u001b[0m\u001b[0m\n\u001b[1;32m    409\u001b[0m     \u001b[0mconfig\u001b[0m\u001b[0;34m.\u001b[0m\u001b[0mProfile\u001b[0m \u001b[0;34m=\u001b[0m \u001b[0;32mFalse\u001b[0m\u001b[0;34m\u001b[0m\u001b[0;34m\u001b[0m\u001b[0m\n\u001b[0;32m--> 410\u001b[0;31m     \u001b[0mrun\u001b[0m\u001b[0;34m(\u001b[0m\u001b[0mconfig\u001b[0m\u001b[0;34m,\u001b[0m \u001b[0mcallback\u001b[0m\u001b[0;34m)\u001b[0m\u001b[0;34m\u001b[0m\u001b[0;34m\u001b[0m\u001b[0m\n\u001b[0m\u001b[1;32m    411\u001b[0m     \u001b[0;32mif\u001b[0m \u001b[0mconfig\u001b[0m\u001b[0;34m.\u001b[0m\u001b[0mPandas_au\u001b[0m\u001b[0;34m:\u001b[0m\u001b[0;34m\u001b[0m\u001b[0;34m\u001b[0m\u001b[0m\n\u001b[1;32m    412\u001b[0m         \u001b[0mstorage\u001b[0m\u001b[0;34m.\u001b[0m\u001b[0mpanda\u001b[0m\u001b[0;34m.\u001b[0m\u001b[0m_autoget\u001b[0m\u001b[0;34m(\u001b[0m\u001b[0;34m\"tweet\"\u001b[0m\u001b[0;34m)\u001b[0m\u001b[0;34m\u001b[0m\u001b[0;34m\u001b[0m\u001b[0m\n",
            "\u001b[0;32m~/.local/lib/python3.8/site-packages/twint/run.py\u001b[0m in \u001b[0;36mrun\u001b[0;34m(config, callback)\u001b[0m\n\u001b[1;32m    327\u001b[0m         \u001b[0;32mraise\u001b[0m\u001b[0;34m\u001b[0m\u001b[0;34m\u001b[0m\u001b[0m\n\u001b[1;32m    328\u001b[0m \u001b[0;34m\u001b[0m\u001b[0m\n\u001b[0;32m--> 329\u001b[0;31m     \u001b[0mget_event_loop\u001b[0m\u001b[0;34m(\u001b[0m\u001b[0;34m)\u001b[0m\u001b[0;34m.\u001b[0m\u001b[0mrun_until_complete\u001b[0m\u001b[0;34m(\u001b[0m\u001b[0mTwint\u001b[0m\u001b[0;34m(\u001b[0m\u001b[0mconfig\u001b[0m\u001b[0;34m)\u001b[0m\u001b[0;34m.\u001b[0m\u001b[0mmain\u001b[0m\u001b[0;34m(\u001b[0m\u001b[0mcallback\u001b[0m\u001b[0;34m)\u001b[0m\u001b[0;34m)\u001b[0m\u001b[0;34m\u001b[0m\u001b[0;34m\u001b[0m\u001b[0m\n\u001b[0m\u001b[1;32m    330\u001b[0m \u001b[0;34m\u001b[0m\u001b[0m\n\u001b[1;32m    331\u001b[0m \u001b[0;34m\u001b[0m\u001b[0m\n",
            "\u001b[0;32m/usr/local/lib/python3.8/dist-packages/nest_asyncio.py\u001b[0m in \u001b[0;36mrun_until_complete\u001b[0;34m(self, future)\u001b[0m\n\u001b[1;32m     82\u001b[0m                 \u001b[0mf\u001b[0m\u001b[0;34m.\u001b[0m\u001b[0m_log_destroy_pending\u001b[0m \u001b[0;34m=\u001b[0m \u001b[0;32mFalse\u001b[0m\u001b[0;34m\u001b[0m\u001b[0;34m\u001b[0m\u001b[0m\n\u001b[1;32m     83\u001b[0m             \u001b[0;32mwhile\u001b[0m \u001b[0;32mnot\u001b[0m \u001b[0mf\u001b[0m\u001b[0;34m.\u001b[0m\u001b[0mdone\u001b[0m\u001b[0;34m(\u001b[0m\u001b[0;34m)\u001b[0m\u001b[0;34m:\u001b[0m\u001b[0;34m\u001b[0m\u001b[0;34m\u001b[0m\u001b[0m\n\u001b[0;32m---> 84\u001b[0;31m                 \u001b[0mself\u001b[0m\u001b[0;34m.\u001b[0m\u001b[0m_run_once\u001b[0m\u001b[0;34m(\u001b[0m\u001b[0;34m)\u001b[0m\u001b[0;34m\u001b[0m\u001b[0;34m\u001b[0m\u001b[0m\n\u001b[0m\u001b[1;32m     85\u001b[0m                 \u001b[0;32mif\u001b[0m \u001b[0mself\u001b[0m\u001b[0;34m.\u001b[0m\u001b[0m_stopping\u001b[0m\u001b[0;34m:\u001b[0m\u001b[0;34m\u001b[0m\u001b[0;34m\u001b[0m\u001b[0m\n\u001b[1;32m     86\u001b[0m                     \u001b[0;32mbreak\u001b[0m\u001b[0;34m\u001b[0m\u001b[0;34m\u001b[0m\u001b[0m\n",
            "\u001b[0;32m/usr/local/lib/python3.8/dist-packages/nest_asyncio.py\u001b[0m in \u001b[0;36m_run_once\u001b[0;34m(self)\u001b[0m\n\u001b[1;32m    105\u001b[0m                 scheduled[0]._when - self.time(), 0), 86400) if scheduled\n\u001b[1;32m    106\u001b[0m             else None)\n\u001b[0;32m--> 107\u001b[0;31m         \u001b[0mevent_list\u001b[0m \u001b[0;34m=\u001b[0m \u001b[0mself\u001b[0m\u001b[0;34m.\u001b[0m\u001b[0m_selector\u001b[0m\u001b[0;34m.\u001b[0m\u001b[0mselect\u001b[0m\u001b[0;34m(\u001b[0m\u001b[0mtimeout\u001b[0m\u001b[0;34m)\u001b[0m\u001b[0;34m\u001b[0m\u001b[0;34m\u001b[0m\u001b[0m\n\u001b[0m\u001b[1;32m    108\u001b[0m         \u001b[0mself\u001b[0m\u001b[0;34m.\u001b[0m\u001b[0m_process_events\u001b[0m\u001b[0;34m(\u001b[0m\u001b[0mevent_list\u001b[0m\u001b[0;34m)\u001b[0m\u001b[0;34m\u001b[0m\u001b[0;34m\u001b[0m\u001b[0m\n\u001b[1;32m    109\u001b[0m \u001b[0;34m\u001b[0m\u001b[0m\n",
            "\u001b[0;32m/usr/lib/python3.8/selectors.py\u001b[0m in \u001b[0;36mselect\u001b[0;34m(self, timeout)\u001b[0m\n\u001b[1;32m    466\u001b[0m             \u001b[0mready\u001b[0m \u001b[0;34m=\u001b[0m \u001b[0;34m[\u001b[0m\u001b[0;34m]\u001b[0m\u001b[0;34m\u001b[0m\u001b[0;34m\u001b[0m\u001b[0m\n\u001b[1;32m    467\u001b[0m             \u001b[0;32mtry\u001b[0m\u001b[0;34m:\u001b[0m\u001b[0;34m\u001b[0m\u001b[0;34m\u001b[0m\u001b[0m\n\u001b[0;32m--> 468\u001b[0;31m                 \u001b[0mfd_event_list\u001b[0m \u001b[0;34m=\u001b[0m \u001b[0mself\u001b[0m\u001b[0;34m.\u001b[0m\u001b[0m_selector\u001b[0m\u001b[0;34m.\u001b[0m\u001b[0mpoll\u001b[0m\u001b[0;34m(\u001b[0m\u001b[0mtimeout\u001b[0m\u001b[0;34m,\u001b[0m \u001b[0mmax_ev\u001b[0m\u001b[0;34m)\u001b[0m\u001b[0;34m\u001b[0m\u001b[0;34m\u001b[0m\u001b[0m\n\u001b[0m\u001b[1;32m    469\u001b[0m             \u001b[0;32mexcept\u001b[0m \u001b[0mInterruptedError\u001b[0m\u001b[0;34m:\u001b[0m\u001b[0;34m\u001b[0m\u001b[0;34m\u001b[0m\u001b[0m\n\u001b[1;32m    470\u001b[0m                 \u001b[0;32mreturn\u001b[0m \u001b[0mready\u001b[0m\u001b[0;34m\u001b[0m\u001b[0;34m\u001b[0m\u001b[0m\n",
            "\u001b[0;31mKeyboardInterrupt\u001b[0m: "
          ]
        }
      ]
    },
    {
      "cell_type": "markdown",
      "source": [
        "#NLP"
      ],
      "metadata": {
        "id": "cHcRsvbW1qLN"
      }
    },
    {
      "cell_type": "code",
      "source": [
        "import nltk\n",
        "from nltk.corpus import twitter_samples\n",
        "from nltk.tokenize  import TweetTokenizer\n",
        "from nltk.stem import PorterStemmer\n",
        "import numpy as np\n",
        "import pandas as pd\n",
        "nltk.download('twitter_samples')\n",
        "nltk.download('stopwords')\n",
        "from nltk.corpus import stopwords\n",
        "import re\n",
        "import string\n",
        "import random"
      ],
      "metadata": {
        "colab": {
          "base_uri": "https://localhost:8080/"
        },
        "id": "-DTUpL-W1skW",
        "outputId": "0f7e5482-3ece-4d63-cf25-6e7f5bd0467c"
      },
      "execution_count": 2,
      "outputs": [
        {
          "output_type": "stream",
          "name": "stderr",
          "text": [
            "[nltk_data] Downloading package twitter_samples to /root/nltk_data...\n",
            "[nltk_data]   Package twitter_samples is already up-to-date!\n",
            "[nltk_data] Downloading package stopwords to /root/nltk_data...\n",
            "[nltk_data]   Package stopwords is already up-to-date!\n"
          ]
        }
      ]
    },
    {
      "cell_type": "markdown",
      "source": [
        "Importing the positive and negative tweets from the nltk sample"
      ],
      "metadata": {
        "id": "hOxR28oc7FLX"
      }
    },
    {
      "cell_type": "code",
      "source": [
        "positive_tweets = twitter_samples.strings('positive_tweets.json')\n",
        "negative_tweets = twitter_samples.strings('negative_tweets.json')"
      ],
      "metadata": {
        "id": "MkD3FTSi10_V"
      },
      "execution_count": 3,
      "outputs": []
    },
    {
      "cell_type": "code",
      "source": [
        "#splitting the data to train and dev sets \n",
        "train_pos = positive_tweets[4000:]\n",
        "dev_pos =positive_tweets[:4000]\n",
        "train_neg =negative_tweets[4000:]\n",
        "dev_neg = negative_tweets[:4000]\n",
        "\n",
        "Train_x = train_pos+train_neg\n",
        "dev_x =dev_pos+dev_neg"
      ],
      "metadata": {
        "id": "2Wgp3cCQ15nd"
      },
      "execution_count": 4,
      "outputs": []
    },
    {
      "cell_type": "code",
      "source": [
        "train_y = np.append(np.ones((len(train_pos), 1)), np.zeros((len(train_neg), 1)), axis=0)\n",
        "dev_y = np.append(np.ones((len(dev_pos), 1)), np.zeros((len(dev_neg), 1)), axis=0)"
      ],
      "metadata": {
        "id": "aWJrbh5t2E4W"
      },
      "execution_count": 5,
      "outputs": []
    },
    {
      "cell_type": "code",
      "source": [
        "def process_tweets(tweet):\n",
        "\n",
        "    tweet = re.sub(r'^RT[\\s]+', '', tweet)\n",
        "    tweet = re.sub(r'https?:\\/\\/.*[\\r\\n]*', '', tweet)\n",
        "    tweet = re.sub(r'#', '', tweet)\n",
        "    tweet = re.sub(r'@\\w', '', tweet)\n",
        "    tokenizer = TweetTokenizer(preserve_case=False, strip_handles=True,\n",
        "                           reduce_len=True)\n",
        "    tweet_tokens = tokenizer.tokenize(tweet)\n",
        "    stopword_english = stopwords.words('english')\n",
        "    no_stop_words =[]\n",
        "    for word in tweet_tokens:\n",
        "\n",
        "          if (word not in stopword_english and word not in string.punctuation):\n",
        "             no_stop_words.append(word)\n",
        "    ps = PorterStemmer()\n",
        "    stemed = []\n",
        "    for w in no_stop_words:\n",
        "       stemed.append(ps.stem(w))\n",
        "    return stemed"
      ],
      "metadata": {
        "id": "o2jlkOLR2Hk_"
      },
      "execution_count": 6,
      "outputs": []
    },
    {
      "cell_type": "code",
      "source": [
        "p = process_tweets(Train_x[0])\n",
        "p"
      ],
      "metadata": {
        "colab": {
          "base_uri": "https://localhost:8080/"
        },
        "id": "4XdQBYzw2Kf2",
        "outputId": "373ffa11-9c4f-40d9-dff4-8ea13911a697"
      },
      "execution_count": 7,
      "outputs": [
        {
          "output_type": "execute_result",
          "data": {
            "text/plain": [
              "['bro',\n",
              " 'u',\n",
              " 'wan',\n",
              " 'cut',\n",
              " 'hair',\n",
              " 'anot',\n",
              " 'ur',\n",
              " 'hair',\n",
              " 'long',\n",
              " 'liao',\n",
              " 'bo',\n",
              " 'sinc',\n",
              " 'ord',\n",
              " 'liao',\n",
              " 'take',\n",
              " 'easi',\n",
              " 'lor',\n",
              " 'treat',\n",
              " 'save',\n",
              " 'leav',\n",
              " 'longer',\n",
              " ':)',\n",
              " 'bro',\n",
              " 'lol',\n",
              " 'sibei',\n",
              " 'xialan']"
            ]
          },
          "metadata": {},
          "execution_count": 7
        }
      ]
    },
    {
      "cell_type": "code",
      "source": [
        "def frequences(tweets,ys):\n",
        "\n",
        "    # Start with an empty dictionary and populate it by looping over all tweets\n",
        "    # and over all processed words in each tweet.\n",
        "    yslist = np.squeeze(ys).tolist()\n",
        "    freqs = {}\n",
        "    for y, tweet in zip(yslist, tweets):\n",
        "           for word in process_tweets(tweet):\n",
        "               pair = (word, y)\n",
        "               if pair in freqs:\n",
        "                  freqs[pair] += 1\n",
        "               else:\n",
        "                  freqs[pair] = 1\n",
        "\n",
        "    return freqs"
      ],
      "metadata": {
        "id": "XuKP6Lag2NSX"
      },
      "execution_count": 8,
      "outputs": []
    },
    {
      "cell_type": "code",
      "source": [
        "def sigmoid_function(z):\n",
        "    h = 1/(1+np.exp(-z))\n",
        "    return h"
      ],
      "metadata": {
        "id": "oAbcdm9R2Qee"
      },
      "execution_count": 9,
      "outputs": []
    },
    {
      "cell_type": "code",
      "source": [
        "def gradient_descend(x,y):\n",
        "  theta =np.zeros((x.shape[1],1))\n",
        "  alpha = 1e-9\n",
        "#m is the total number of tweets we have \n",
        "  m = len(x)\n",
        "\n",
        "  for i in range(2000):\n",
        "\n",
        "    z =np.dot(x,theta)\n",
        "    h = sigmoid_function(z)\n",
        "\n",
        "    #updating theta\n",
        "    theta = theta - (alpha/m)*(np.dot(x.transpose(),(h - y)))\n",
        "\n",
        "  return theta"
      ],
      "metadata": {
        "id": "VAD1ySkS2SbA"
      },
      "execution_count": 10,
      "outputs": []
    },
    {
      "cell_type": "code",
      "source": [
        "def feature_extraction(tweets,freq):\n",
        "\n",
        "  x =np.zeros((len(tweets),3))\n",
        "  for i in range((len(tweets))):\n",
        "      x[i][0]=1 \n",
        "  \n",
        "\n",
        "  for i, tweet in zip(range(len(tweets)),tweets):\n",
        "      for word in process_tweets(tweet):\n",
        "          x[i][1] += freq.get((word, 1.0),0)\n",
        "          x[i][2] += freq.get((word, 0),0)\n",
        "  return x\n"
      ],
      "metadata": {
        "id": "_pNXP2Gr2UbW"
      },
      "execution_count": 11,
      "outputs": []
    },
    {
      "cell_type": "code",
      "source": [
        "def predict(x,theta):\n",
        "    \n",
        "    \n",
        "     y_pred = sigmoid_function(x.dot(theta))\n",
        "     output =[]\n",
        "\n",
        "     for i in range(x.shape[0]):\n",
        "\n",
        "        if y_pred[i] < 0.5 :\n",
        "            output += [\"The tweet is negative\"]\n",
        "       \n",
        "        else :\n",
        "              output += [\"The tweet is positive\"]\n",
        "     return output"
      ],
      "metadata": {
        "id": "BIPr8Iy32WjW"
      },
      "execution_count": 12,
      "outputs": []
    },
    {
      "cell_type": "code",
      "source": [
        "freqs = frequences(Train_x,train_y)\n",
        "X = feature_extraction(Train_x,freqs)\n",
        "\n",
        "theta = gradient_descend(X,train_y)"
      ],
      "metadata": {
        "id": "yMLhVpiv2Z_m"
      },
      "execution_count": 13,
      "outputs": []
    },
    {
      "cell_type": "code",
      "source": [
        "def Dev_model(x,y):\n",
        "    y_hat = []\n",
        "    x = feature_extraction(x,freqs)\n",
        "\n",
        "    for tweet in x :\n",
        "\n",
        "        # get the label prediction for the tweet\n",
        "        y_pred =  predict(x, theta)\n",
        "        for i in range(x.shape[0]):\n",
        "\n",
        "            if y_pred[i] ==\"The tweet is positive\":\n",
        "            # append 1.0 to the list\n",
        "               y_hat.append(1.0)\n",
        "            else:\n",
        "            # append 0 to the list\n",
        "                y_hat.append(0.0)\n",
        "\n",
        "    correct=0\n",
        "\n",
        "    for i in range(len(y)):\n",
        "              if y_hat[i] == y[i]:\n",
        "                correct+=1\n",
        "     \n",
        "    accuracy = correct/len(y)\n",
        "    return accuracy"
      ],
      "metadata": {
        "id": "6PXFMifK2iRO"
      },
      "execution_count": 14,
      "outputs": []
    },
    {
      "cell_type": "code",
      "source": [
        "test =  Dev_model(dev_x,dev_y)\n",
        "test"
      ],
      "metadata": {
        "colab": {
          "base_uri": "https://localhost:8080/"
        },
        "id": "zBBbN2xq2lTu",
        "outputId": "bb07d409-8903-4f17-c0f3-5c3bf1f26c51"
      },
      "execution_count": 15,
      "outputs": [
        {
          "output_type": "execute_result",
          "data": {
            "text/plain": [
              "0.9895"
            ]
          },
          "metadata": {},
          "execution_count": 15
        }
      ]
    },
    {
      "cell_type": "markdown",
      "source": [
        "##**Testing** the model on a live twitter samples, which we scrapped previously "
      ],
      "metadata": {
        "id": "3J-OFtjn7UZm"
      }
    },
    {
      "cell_type": "code",
      "source": [
        "Twitter_data = pd.read_json(\"/content/sample_data/Mytweets.json\",lines = True)\n",
        "Twitter_data.shape"
      ],
      "metadata": {
        "colab": {
          "base_uri": "https://localhost:8080/"
        },
        "id": "c5J_07YI2tpX",
        "outputId": "7fc2efeb-f924-479a-a3b9-d2202ab16368"
      },
      "execution_count": 16,
      "outputs": [
        {
          "output_type": "execute_result",
          "data": {
            "text/plain": [
              "(5218, 36)"
            ]
          },
          "metadata": {},
          "execution_count": 16
        }
      ]
    },
    {
      "cell_type": "code",
      "source": [
        "Twitter_data.columns"
      ],
      "metadata": {
        "colab": {
          "base_uri": "https://localhost:8080/"
        },
        "id": "OkrJl_ba3f_H",
        "outputId": "f6d058f2-8cff-4ac3-e326-81131bafbe8d"
      },
      "execution_count": 17,
      "outputs": [
        {
          "output_type": "execute_result",
          "data": {
            "text/plain": [
              "Index(['id', 'conversation_id', 'created_at', 'date', 'time', 'timezone',\n",
              "       'user_id', 'username', 'name', 'place', 'tweet', 'language', 'mentions',\n",
              "       'urls', 'photos', 'replies_count', 'retweets_count', 'likes_count',\n",
              "       'hashtags', 'cashtags', 'link', 'retweet', 'quote_url', 'video',\n",
              "       'thumbnail', 'near', 'geo', 'source', 'user_rt_id', 'user_rt',\n",
              "       'retweet_id', 'reply_to', 'retweet_date', 'translate', 'trans_src',\n",
              "       'trans_dest'],\n",
              "      dtype='object')"
            ]
          },
          "metadata": {},
          "execution_count": 17
        }
      ]
    },
    {
      "cell_type": "code",
      "source": [
        "Twitter_data.head()"
      ],
      "metadata": {
        "colab": {
          "base_uri": "https://localhost:8080/",
          "height": 473
        },
        "id": "C58wWj5X3jbm",
        "outputId": "7d0205e6-989f-45b0-98da-b63417bac722"
      },
      "execution_count": 18,
      "outputs": [
        {
          "output_type": "execute_result",
          "data": {
            "text/plain": [
              "                    id      conversation_id                created_at  \\\n",
              "0  1628423007583494145  1628060409944068096 2023-02-22 15:54:34+00:00   \n",
              "1  1628423006530707457  1628423006530707456 2023-02-22 15:54:34+00:00   \n",
              "2  1628423005322854403  1628403015802552320 2023-02-22 15:54:33+00:00   \n",
              "3  1628423004198932480  1628335781155569664 2023-02-22 15:54:33+00:00   \n",
              "4  1628423004118974466  1628161951397212160 2023-02-22 15:54:33+00:00   \n",
              "\n",
              "        date      time  timezone              user_id      username  \\\n",
              "0 2023-02-22  15:54:34         0             19858526    alialiafro   \n",
              "1 2023-02-22  15:54:34         0           2150144840      yokitsch   \n",
              "2 2023-02-22  15:54:33         0           2169739050   russell6848   \n",
              "3 2023-02-22  15:54:33         0            142397042      balajive   \n",
              "4 2023-02-22  15:54:33         0  1485354560549965830  quinoacomics   \n",
              "\n",
              "                   name place  ... geo source user_rt_id user_rt retweet_id  \\\n",
              "0            Ali Hughes        ...                                            \n",
              "1         Heather Neale        ...                                            \n",
              "2            Dusty Lamb        ...                                            \n",
              "3                Balaji        ...                                            \n",
              "4  Comic Book Quinoa 🍚📚        ...                                            \n",
              "\n",
              "                                            reply_to  retweet_date  translate  \\\n",
              "0  [{'screen_name': 'SimplyRedHQ', 'name': 'Simpl...                            \n",
              "1                                                 []                            \n",
              "2  [{'screen_name': 'maile_everett', 'name': 'Mai...                            \n",
              "3  [{'screen_name': 'ashoswai', 'name': 'Ashok Sw...                            \n",
              "4  [{'screen_name': 'ShineUrLiteOnMe', 'name': 'Q...                            \n",
              "\n",
              "  trans_src trans_dest  \n",
              "0                       \n",
              "1                       \n",
              "2                       \n",
              "3                       \n",
              "4                       \n",
              "\n",
              "[5 rows x 36 columns]"
            ],
            "text/html": [
              "\n",
              "  <div id=\"df-d9285382-7681-4228-8b1b-4cbce52563f0\">\n",
              "    <div class=\"colab-df-container\">\n",
              "      <div>\n",
              "<style scoped>\n",
              "    .dataframe tbody tr th:only-of-type {\n",
              "        vertical-align: middle;\n",
              "    }\n",
              "\n",
              "    .dataframe tbody tr th {\n",
              "        vertical-align: top;\n",
              "    }\n",
              "\n",
              "    .dataframe thead th {\n",
              "        text-align: right;\n",
              "    }\n",
              "</style>\n",
              "<table border=\"1\" class=\"dataframe\">\n",
              "  <thead>\n",
              "    <tr style=\"text-align: right;\">\n",
              "      <th></th>\n",
              "      <th>id</th>\n",
              "      <th>conversation_id</th>\n",
              "      <th>created_at</th>\n",
              "      <th>date</th>\n",
              "      <th>time</th>\n",
              "      <th>timezone</th>\n",
              "      <th>user_id</th>\n",
              "      <th>username</th>\n",
              "      <th>name</th>\n",
              "      <th>place</th>\n",
              "      <th>...</th>\n",
              "      <th>geo</th>\n",
              "      <th>source</th>\n",
              "      <th>user_rt_id</th>\n",
              "      <th>user_rt</th>\n",
              "      <th>retweet_id</th>\n",
              "      <th>reply_to</th>\n",
              "      <th>retweet_date</th>\n",
              "      <th>translate</th>\n",
              "      <th>trans_src</th>\n",
              "      <th>trans_dest</th>\n",
              "    </tr>\n",
              "  </thead>\n",
              "  <tbody>\n",
              "    <tr>\n",
              "      <th>0</th>\n",
              "      <td>1628423007583494145</td>\n",
              "      <td>1628060409944068096</td>\n",
              "      <td>2023-02-22 15:54:34+00:00</td>\n",
              "      <td>2023-02-22</td>\n",
              "      <td>15:54:34</td>\n",
              "      <td>0</td>\n",
              "      <td>19858526</td>\n",
              "      <td>alialiafro</td>\n",
              "      <td>Ali Hughes</td>\n",
              "      <td></td>\n",
              "      <td>...</td>\n",
              "      <td></td>\n",
              "      <td></td>\n",
              "      <td></td>\n",
              "      <td></td>\n",
              "      <td></td>\n",
              "      <td>[{'screen_name': 'SimplyRedHQ', 'name': 'Simpl...</td>\n",
              "      <td></td>\n",
              "      <td></td>\n",
              "      <td></td>\n",
              "      <td></td>\n",
              "    </tr>\n",
              "    <tr>\n",
              "      <th>1</th>\n",
              "      <td>1628423006530707457</td>\n",
              "      <td>1628423006530707456</td>\n",
              "      <td>2023-02-22 15:54:34+00:00</td>\n",
              "      <td>2023-02-22</td>\n",
              "      <td>15:54:34</td>\n",
              "      <td>0</td>\n",
              "      <td>2150144840</td>\n",
              "      <td>yokitsch</td>\n",
              "      <td>Heather Neale</td>\n",
              "      <td></td>\n",
              "      <td>...</td>\n",
              "      <td></td>\n",
              "      <td></td>\n",
              "      <td></td>\n",
              "      <td></td>\n",
              "      <td></td>\n",
              "      <td>[]</td>\n",
              "      <td></td>\n",
              "      <td></td>\n",
              "      <td></td>\n",
              "      <td></td>\n",
              "    </tr>\n",
              "    <tr>\n",
              "      <th>2</th>\n",
              "      <td>1628423005322854403</td>\n",
              "      <td>1628403015802552320</td>\n",
              "      <td>2023-02-22 15:54:33+00:00</td>\n",
              "      <td>2023-02-22</td>\n",
              "      <td>15:54:33</td>\n",
              "      <td>0</td>\n",
              "      <td>2169739050</td>\n",
              "      <td>russell6848</td>\n",
              "      <td>Dusty Lamb</td>\n",
              "      <td></td>\n",
              "      <td>...</td>\n",
              "      <td></td>\n",
              "      <td></td>\n",
              "      <td></td>\n",
              "      <td></td>\n",
              "      <td></td>\n",
              "      <td>[{'screen_name': 'maile_everett', 'name': 'Mai...</td>\n",
              "      <td></td>\n",
              "      <td></td>\n",
              "      <td></td>\n",
              "      <td></td>\n",
              "    </tr>\n",
              "    <tr>\n",
              "      <th>3</th>\n",
              "      <td>1628423004198932480</td>\n",
              "      <td>1628335781155569664</td>\n",
              "      <td>2023-02-22 15:54:33+00:00</td>\n",
              "      <td>2023-02-22</td>\n",
              "      <td>15:54:33</td>\n",
              "      <td>0</td>\n",
              "      <td>142397042</td>\n",
              "      <td>balajive</td>\n",
              "      <td>Balaji</td>\n",
              "      <td></td>\n",
              "      <td>...</td>\n",
              "      <td></td>\n",
              "      <td></td>\n",
              "      <td></td>\n",
              "      <td></td>\n",
              "      <td></td>\n",
              "      <td>[{'screen_name': 'ashoswai', 'name': 'Ashok Sw...</td>\n",
              "      <td></td>\n",
              "      <td></td>\n",
              "      <td></td>\n",
              "      <td></td>\n",
              "    </tr>\n",
              "    <tr>\n",
              "      <th>4</th>\n",
              "      <td>1628423004118974466</td>\n",
              "      <td>1628161951397212160</td>\n",
              "      <td>2023-02-22 15:54:33+00:00</td>\n",
              "      <td>2023-02-22</td>\n",
              "      <td>15:54:33</td>\n",
              "      <td>0</td>\n",
              "      <td>1485354560549965830</td>\n",
              "      <td>quinoacomics</td>\n",
              "      <td>Comic Book Quinoa 🍚📚</td>\n",
              "      <td></td>\n",
              "      <td>...</td>\n",
              "      <td></td>\n",
              "      <td></td>\n",
              "      <td></td>\n",
              "      <td></td>\n",
              "      <td></td>\n",
              "      <td>[{'screen_name': 'ShineUrLiteOnMe', 'name': 'Q...</td>\n",
              "      <td></td>\n",
              "      <td></td>\n",
              "      <td></td>\n",
              "      <td></td>\n",
              "    </tr>\n",
              "  </tbody>\n",
              "</table>\n",
              "<p>5 rows × 36 columns</p>\n",
              "</div>\n",
              "      <button class=\"colab-df-convert\" onclick=\"convertToInteractive('df-d9285382-7681-4228-8b1b-4cbce52563f0')\"\n",
              "              title=\"Convert this dataframe to an interactive table.\"\n",
              "              style=\"display:none;\">\n",
              "        \n",
              "  <svg xmlns=\"http://www.w3.org/2000/svg\" height=\"24px\"viewBox=\"0 0 24 24\"\n",
              "       width=\"24px\">\n",
              "    <path d=\"M0 0h24v24H0V0z\" fill=\"none\"/>\n",
              "    <path d=\"M18.56 5.44l.94 2.06.94-2.06 2.06-.94-2.06-.94-.94-2.06-.94 2.06-2.06.94zm-11 1L8.5 8.5l.94-2.06 2.06-.94-2.06-.94L8.5 2.5l-.94 2.06-2.06.94zm10 10l.94 2.06.94-2.06 2.06-.94-2.06-.94-.94-2.06-.94 2.06-2.06.94z\"/><path d=\"M17.41 7.96l-1.37-1.37c-.4-.4-.92-.59-1.43-.59-.52 0-1.04.2-1.43.59L10.3 9.45l-7.72 7.72c-.78.78-.78 2.05 0 2.83L4 21.41c.39.39.9.59 1.41.59.51 0 1.02-.2 1.41-.59l7.78-7.78 2.81-2.81c.8-.78.8-2.07 0-2.86zM5.41 20L4 18.59l7.72-7.72 1.47 1.35L5.41 20z\"/>\n",
              "  </svg>\n",
              "      </button>\n",
              "      \n",
              "  <style>\n",
              "    .colab-df-container {\n",
              "      display:flex;\n",
              "      flex-wrap:wrap;\n",
              "      gap: 12px;\n",
              "    }\n",
              "\n",
              "    .colab-df-convert {\n",
              "      background-color: #E8F0FE;\n",
              "      border: none;\n",
              "      border-radius: 50%;\n",
              "      cursor: pointer;\n",
              "      display: none;\n",
              "      fill: #1967D2;\n",
              "      height: 32px;\n",
              "      padding: 0 0 0 0;\n",
              "      width: 32px;\n",
              "    }\n",
              "\n",
              "    .colab-df-convert:hover {\n",
              "      background-color: #E2EBFA;\n",
              "      box-shadow: 0px 1px 2px rgba(60, 64, 67, 0.3), 0px 1px 3px 1px rgba(60, 64, 67, 0.15);\n",
              "      fill: #174EA6;\n",
              "    }\n",
              "\n",
              "    [theme=dark] .colab-df-convert {\n",
              "      background-color: #3B4455;\n",
              "      fill: #D2E3FC;\n",
              "    }\n",
              "\n",
              "    [theme=dark] .colab-df-convert:hover {\n",
              "      background-color: #434B5C;\n",
              "      box-shadow: 0px 1px 3px 1px rgba(0, 0, 0, 0.15);\n",
              "      filter: drop-shadow(0px 1px 2px rgba(0, 0, 0, 0.3));\n",
              "      fill: #FFFFFF;\n",
              "    }\n",
              "  </style>\n",
              "\n",
              "      <script>\n",
              "        const buttonEl =\n",
              "          document.querySelector('#df-d9285382-7681-4228-8b1b-4cbce52563f0 button.colab-df-convert');\n",
              "        buttonEl.style.display =\n",
              "          google.colab.kernel.accessAllowed ? 'block' : 'none';\n",
              "\n",
              "        async function convertToInteractive(key) {\n",
              "          const element = document.querySelector('#df-d9285382-7681-4228-8b1b-4cbce52563f0');\n",
              "          const dataTable =\n",
              "            await google.colab.kernel.invokeFunction('convertToInteractive',\n",
              "                                                     [key], {});\n",
              "          if (!dataTable) return;\n",
              "\n",
              "          const docLinkHtml = 'Like what you see? Visit the ' +\n",
              "            '<a target=\"_blank\" href=https://colab.research.google.com/notebooks/data_table.ipynb>data table notebook</a>'\n",
              "            + ' to learn more about interactive tables.';\n",
              "          element.innerHTML = '';\n",
              "          dataTable['output_type'] = 'display_data';\n",
              "          await google.colab.output.renderOutput(dataTable, element);\n",
              "          const docLink = document.createElement('div');\n",
              "          docLink.innerHTML = docLinkHtml;\n",
              "          element.appendChild(docLink);\n",
              "        }\n",
              "      </script>\n",
              "    </div>\n",
              "  </div>\n",
              "  "
            ]
          },
          "metadata": {},
          "execution_count": 18
        }
      ]
    },
    {
      "cell_type": "code",
      "source": [
        "Twitter_data.tweet[1]"
      ],
      "metadata": {
        "colab": {
          "base_uri": "https://localhost:8080/",
          "height": 53
        },
        "id": "rfDW1TVW3nhO",
        "outputId": "fa43f1eb-9219-4c4b-bc5d-34f3b92a8611"
      },
      "execution_count": 42,
      "outputs": [
        {
          "output_type": "execute_result",
          "data": {
            "text/plain": [
              "\"@TheCdnAcademy What a great Winnipeg costume team I had on The Porter!  I'm so appreciative of this nomination and congratulations to everyone in the television #bestcostumedesign category!  #CdnScreenAwards  https://t.co/Q6lRoZjiUP\""
            ],
            "application/vnd.google.colaboratory.intrinsic+json": {
              "type": "string"
            }
          },
          "metadata": {},
          "execution_count": 42
        }
      ]
    },
    {
      "cell_type": "code",
      "source": [
        "my_tweet = ['@TheCdnAcademy What a great Winnipeg costume team I had on The Porter!  Im so appreciative of this nomination and congratulations to everyone in the television #bestcostumedesign category!  #CdnScreenAwards  https://t.co/Q6lRoZjiUP']\n",
        "X=feature_extraction(my_tweet,freqs)\n",
        "X"
      ],
      "metadata": {
        "colab": {
          "base_uri": "https://localhost:8080/"
        },
        "id": "kAJl2Pwc4jLe",
        "outputId": "c4df46d8-497b-4532-8fcf-7ed5659689b9"
      },
      "execution_count": 46,
      "outputs": [
        {
          "output_type": "execute_result",
          "data": {
            "text/plain": [
              "array([[ 1., 78., 37.]])"
            ]
          },
          "metadata": {},
          "execution_count": 46
        }
      ]
    },
    {
      "cell_type": "code",
      "source": [
        "predict(X,theta)"
      ],
      "metadata": {
        "colab": {
          "base_uri": "https://localhost:8080/"
        },
        "id": "Ees4cpeR4PeG",
        "outputId": "1fac4ea8-4b56-4199-e8a7-4f8b046205b8"
      },
      "execution_count": 47,
      "outputs": [
        {
          "output_type": "execute_result",
          "data": {
            "text/plain": [
              "['The tweet is positive']"
            ]
          },
          "metadata": {},
          "execution_count": 47
        }
      ]
    }
  ]
}